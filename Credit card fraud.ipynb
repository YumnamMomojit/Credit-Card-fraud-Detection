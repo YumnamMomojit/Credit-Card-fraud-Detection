{
  "nbformat": 4,
  "nbformat_minor": 0,
  "metadata": {
    "colab": {
      "name": "Untitled1.ipynb",
      "provenance": [],
      "collapsed_sections": []
    },
    "kernelspec": {
      "name": "python3",
      "display_name": "Python 3"
    },
    "language_info": {
      "name": "python"
    }
  },
  "cells": [
    {
      "cell_type": "markdown",
      "metadata": {
        "id": "bs4fINAMsiPC"
      },
      "source": [
        "#Credit card Fraud Detection Model"
      ]
    },
    {
      "cell_type": "markdown",
      "metadata": {
        "id": "K4TmrRp9spZg"
      },
      "source": [
        "###How to deal with unbalanced data? A comparison between Undersampling and Oversampling with SMOTE"
      ]
    },
    {
      "cell_type": "markdown",
      "metadata": {
        "id": "SnzAE6iptyzO"
      },
      "source": [
        "The following notebook is about the application of undersampling and oversampling techniques on a credit card fraud dataset to deal with heavy unbalanced datasets.\n",
        "The project is structured as follows:\n",
        "\n",
        "Data loading.\n",
        "Data cleaning:\n",
        "Duplicated data check.\n",
        "Box Cox tranformation of skewed features.\n",
        "PCA for dimensionality reduction.\n",
        "Unbalanced problem: Undersampling and Oversampling with SMOTE.\n",
        "Neural networks by Keras, modeling and training.\n",
        "Results comparison: ROC, Confusion Matrix, Precision, Recall."
      ]
    },
    {
      "cell_type": "markdown",
      "metadata": {
        "id": "BE31fC2Nt4Mr"
      },
      "source": [
        "#Data loading"
      ]
    },
    {
      "cell_type": "code",
      "metadata": {
        "id": "QvZAfHx3x6d2"
      },
      "source": [
        "import os\n",
        "for dirname, _, filenames in os.walk('/kaggle/input'):\n",
        "    for filename in filenames:\n",
        "        print(os.path.join(dirname, filename))"
      ],
      "execution_count": null,
      "outputs": []
    },
    {
      "cell_type": "markdown",
      "metadata": {
        "id": "lN9-aXEaMZNI"
      },
      "source": [
        "Import the require library"
      ]
    },
    {
      "cell_type": "code",
      "metadata": {
        "id": "6Civ1Mhsy0R8"
      },
      "source": [
        "import pandas as pd\n",
        "import numpy as np\n",
        "import seaborn as sns\n",
        "import matplotlib.pyplot as plt\n",
        "\n",
        "from sklearn.model_selection import train_test_split\n",
        "from sklearn.preprocessing import StandardScaler\n",
        "from sklearn.metrics import confusion_matrix, classification_report, precision_recall_curve\n",
        "from sklearn.metrics import roc_auc_score, roc_curve, f1_score, precision_score, recall_score, accuracy_score, auc\n",
        "\n",
        "from scipy.special import boxcox1p\n",
        "from scipy.stats import boxcox_normmax\n",
        "\n",
        "from tensorflow import keras\n",
        "from tensorflow.keras import layers\n",
        "\n",
        "from imblearn.over_sampling import SMOTE\n",
        "from imblearn.under_sampling import RandomUnderSampler\n",
        "from imblearn.combine import SMOTEENN\n",
        "seed=42\n",
        "\n",
        "plt.style.use(\"seaborn-whitegrid\")\n",
        "plt.rc(\"figure\", autolayout=True)\n",
        "plt.rc(\"axes\", labelweight=\"bold\", labelsize=\"large\", titleweight=\"bold\", titlesize=14, titlepad=10)"
      ],
      "execution_count": null,
      "outputs": []
    },
    {
      "cell_type": "markdown",
      "metadata": {
        "id": "3ICng9mU0Tr3"
      },
      "source": [
        "##Custom function"
      ]
    },
    {
      "cell_type": "markdown",
      "metadata": {
        "id": "YvJB1NpoMhNZ"
      },
      "source": [
        "Make a custom function"
      ]
    },
    {
      "cell_type": "code",
      "metadata": {
        "id": "KHZ-x5lK0DCB"
      },
      "source": [
        "def num_plot(df, col, title, symb):\n",
        "    fig, ax = plt.subplots(2, 1, sharex=True, figsize=(8,5),gridspec_kw={\"height_ratios\": (.2, .8)})\n",
        "    ax[0].set_title(title,fontsize=18)\n",
        "    sns.boxplot(x=col, data=df, ax=ax[0])\n",
        "    ax[0].set(yticks=[])\n",
        "    sns.histplot(x=col, data=df, ax=ax[1])\n",
        "    ax[1].set_xlabel(col, fontsize=16)\n",
        "    plt.axvline(df[col].mean(), color='darkgreen', linewidth=2.2, label='mean=' + str(np.round(df[col].mean(),1)) + symb)\n",
        "    plt.axvline(df[col].median(), color='red', linewidth=2.2, label='median='+ str(np.round(df[col].median(),1)) + symb)\n",
        "    plt.axvline(df[col].mode()[0], color='purple', linewidth=2.2, label='mode='+ str(np.round(df[col].mode()[0],1)) + symb)\n",
        "    plt.legend(bbox_to_anchor=(1, 1.03), ncol=1, fontsize=17, fancybox=True, shadow=True, frameon=True)\n",
        "    plt.tight_layout()\n",
        "    plt.show()"
      ],
      "execution_count": null,
      "outputs": []
    },
    {
      "cell_type": "markdown",
      "metadata": {
        "id": "RdVNrCmIMCPi"
      },
      "source": [
        "Import the dataset for creditcard"
      ]
    },
    {
      "cell_type": "code",
      "metadata": {
        "id": "W8BwKwjS0fu3"
      },
      "source": [
        "df = pd.read_csv('/creditcard.csv', skipinitialspace=True)"
      ],
      "execution_count": null,
      "outputs": []
    },
    {
      "cell_type": "markdown",
      "metadata": {
        "id": "bmWsOzOFNz0Y"
      },
      "source": [
        "Show the 10 head rows."
      ]
    },
    {
      "cell_type": "code",
      "metadata": {
        "colab": {
          "base_uri": "https://localhost:8080/",
          "height": 383
        },
        "id": "1Bzm7Dge1GF3",
        "outputId": "dda0609a-33d7-47a5-d6f8-570480db04e5"
      },
      "source": [
        "df.head(10)         #Inspecting the first 5 rows"
      ],
      "execution_count": null,
      "outputs": [
        {
          "output_type": "execute_result",
          "data": {
            "text/html": [
              "<div>\n",
              "<style scoped>\n",
              "    .dataframe tbody tr th:only-of-type {\n",
              "        vertical-align: middle;\n",
              "    }\n",
              "\n",
              "    .dataframe tbody tr th {\n",
              "        vertical-align: top;\n",
              "    }\n",
              "\n",
              "    .dataframe thead th {\n",
              "        text-align: right;\n",
              "    }\n",
              "</style>\n",
              "<table border=\"1\" class=\"dataframe\">\n",
              "  <thead>\n",
              "    <tr style=\"text-align: right;\">\n",
              "      <th></th>\n",
              "      <th>Time</th>\n",
              "      <th>V1</th>\n",
              "      <th>V2</th>\n",
              "      <th>V3</th>\n",
              "      <th>V4</th>\n",
              "      <th>V5</th>\n",
              "      <th>V6</th>\n",
              "      <th>V7</th>\n",
              "      <th>V8</th>\n",
              "      <th>V9</th>\n",
              "      <th>V10</th>\n",
              "      <th>V11</th>\n",
              "      <th>V12</th>\n",
              "      <th>V13</th>\n",
              "      <th>V14</th>\n",
              "      <th>V15</th>\n",
              "      <th>V16</th>\n",
              "      <th>V17</th>\n",
              "      <th>V18</th>\n",
              "      <th>V19</th>\n",
              "      <th>V20</th>\n",
              "      <th>V21</th>\n",
              "      <th>V22</th>\n",
              "      <th>V23</th>\n",
              "      <th>V24</th>\n",
              "      <th>V25</th>\n",
              "      <th>V26</th>\n",
              "      <th>V27</th>\n",
              "      <th>V28</th>\n",
              "      <th>Amount</th>\n",
              "      <th>Class</th>\n",
              "    </tr>\n",
              "  </thead>\n",
              "  <tbody>\n",
              "    <tr>\n",
              "      <th>0</th>\n",
              "      <td>0.0</td>\n",
              "      <td>-1.359807</td>\n",
              "      <td>-0.072781</td>\n",
              "      <td>2.536347</td>\n",
              "      <td>1.378155</td>\n",
              "      <td>-0.338321</td>\n",
              "      <td>0.462388</td>\n",
              "      <td>0.239599</td>\n",
              "      <td>0.098698</td>\n",
              "      <td>0.363787</td>\n",
              "      <td>0.090794</td>\n",
              "      <td>-0.551600</td>\n",
              "      <td>-0.617801</td>\n",
              "      <td>-0.991390</td>\n",
              "      <td>-0.311169</td>\n",
              "      <td>1.468177</td>\n",
              "      <td>-0.470401</td>\n",
              "      <td>0.207971</td>\n",
              "      <td>0.025791</td>\n",
              "      <td>0.403993</td>\n",
              "      <td>0.251412</td>\n",
              "      <td>-0.018307</td>\n",
              "      <td>0.277838</td>\n",
              "      <td>-0.110474</td>\n",
              "      <td>0.066928</td>\n",
              "      <td>0.128539</td>\n",
              "      <td>-0.189115</td>\n",
              "      <td>0.133558</td>\n",
              "      <td>-0.021053</td>\n",
              "      <td>149.62</td>\n",
              "      <td>0</td>\n",
              "    </tr>\n",
              "    <tr>\n",
              "      <th>1</th>\n",
              "      <td>0.0</td>\n",
              "      <td>1.191857</td>\n",
              "      <td>0.266151</td>\n",
              "      <td>0.166480</td>\n",
              "      <td>0.448154</td>\n",
              "      <td>0.060018</td>\n",
              "      <td>-0.082361</td>\n",
              "      <td>-0.078803</td>\n",
              "      <td>0.085102</td>\n",
              "      <td>-0.255425</td>\n",
              "      <td>-0.166974</td>\n",
              "      <td>1.612727</td>\n",
              "      <td>1.065235</td>\n",
              "      <td>0.489095</td>\n",
              "      <td>-0.143772</td>\n",
              "      <td>0.635558</td>\n",
              "      <td>0.463917</td>\n",
              "      <td>-0.114805</td>\n",
              "      <td>-0.183361</td>\n",
              "      <td>-0.145783</td>\n",
              "      <td>-0.069083</td>\n",
              "      <td>-0.225775</td>\n",
              "      <td>-0.638672</td>\n",
              "      <td>0.101288</td>\n",
              "      <td>-0.339846</td>\n",
              "      <td>0.167170</td>\n",
              "      <td>0.125895</td>\n",
              "      <td>-0.008983</td>\n",
              "      <td>0.014724</td>\n",
              "      <td>2.69</td>\n",
              "      <td>0</td>\n",
              "    </tr>\n",
              "    <tr>\n",
              "      <th>2</th>\n",
              "      <td>1.0</td>\n",
              "      <td>-1.358354</td>\n",
              "      <td>-1.340163</td>\n",
              "      <td>1.773209</td>\n",
              "      <td>0.379780</td>\n",
              "      <td>-0.503198</td>\n",
              "      <td>1.800499</td>\n",
              "      <td>0.791461</td>\n",
              "      <td>0.247676</td>\n",
              "      <td>-1.514654</td>\n",
              "      <td>0.207643</td>\n",
              "      <td>0.624501</td>\n",
              "      <td>0.066084</td>\n",
              "      <td>0.717293</td>\n",
              "      <td>-0.165946</td>\n",
              "      <td>2.345865</td>\n",
              "      <td>-2.890083</td>\n",
              "      <td>1.109969</td>\n",
              "      <td>-0.121359</td>\n",
              "      <td>-2.261857</td>\n",
              "      <td>0.524980</td>\n",
              "      <td>0.247998</td>\n",
              "      <td>0.771679</td>\n",
              "      <td>0.909412</td>\n",
              "      <td>-0.689281</td>\n",
              "      <td>-0.327642</td>\n",
              "      <td>-0.139097</td>\n",
              "      <td>-0.055353</td>\n",
              "      <td>-0.059752</td>\n",
              "      <td>378.66</td>\n",
              "      <td>0</td>\n",
              "    </tr>\n",
              "    <tr>\n",
              "      <th>3</th>\n",
              "      <td>1.0</td>\n",
              "      <td>-0.966272</td>\n",
              "      <td>-0.185226</td>\n",
              "      <td>1.792993</td>\n",
              "      <td>-0.863291</td>\n",
              "      <td>-0.010309</td>\n",
              "      <td>1.247203</td>\n",
              "      <td>0.237609</td>\n",
              "      <td>0.377436</td>\n",
              "      <td>-1.387024</td>\n",
              "      <td>-0.054952</td>\n",
              "      <td>-0.226487</td>\n",
              "      <td>0.178228</td>\n",
              "      <td>0.507757</td>\n",
              "      <td>-0.287924</td>\n",
              "      <td>-0.631418</td>\n",
              "      <td>-1.059647</td>\n",
              "      <td>-0.684093</td>\n",
              "      <td>1.965775</td>\n",
              "      <td>-1.232622</td>\n",
              "      <td>-0.208038</td>\n",
              "      <td>-0.108300</td>\n",
              "      <td>0.005274</td>\n",
              "      <td>-0.190321</td>\n",
              "      <td>-1.175575</td>\n",
              "      <td>0.647376</td>\n",
              "      <td>-0.221929</td>\n",
              "      <td>0.062723</td>\n",
              "      <td>0.061458</td>\n",
              "      <td>123.50</td>\n",
              "      <td>0</td>\n",
              "    </tr>\n",
              "    <tr>\n",
              "      <th>4</th>\n",
              "      <td>2.0</td>\n",
              "      <td>-1.158233</td>\n",
              "      <td>0.877737</td>\n",
              "      <td>1.548718</td>\n",
              "      <td>0.403034</td>\n",
              "      <td>-0.407193</td>\n",
              "      <td>0.095921</td>\n",
              "      <td>0.592941</td>\n",
              "      <td>-0.270533</td>\n",
              "      <td>0.817739</td>\n",
              "      <td>0.753074</td>\n",
              "      <td>-0.822843</td>\n",
              "      <td>0.538196</td>\n",
              "      <td>1.345852</td>\n",
              "      <td>-1.119670</td>\n",
              "      <td>0.175121</td>\n",
              "      <td>-0.451449</td>\n",
              "      <td>-0.237033</td>\n",
              "      <td>-0.038195</td>\n",
              "      <td>0.803487</td>\n",
              "      <td>0.408542</td>\n",
              "      <td>-0.009431</td>\n",
              "      <td>0.798278</td>\n",
              "      <td>-0.137458</td>\n",
              "      <td>0.141267</td>\n",
              "      <td>-0.206010</td>\n",
              "      <td>0.502292</td>\n",
              "      <td>0.219422</td>\n",
              "      <td>0.215153</td>\n",
              "      <td>69.99</td>\n",
              "      <td>0</td>\n",
              "    </tr>\n",
              "    <tr>\n",
              "      <th>5</th>\n",
              "      <td>2.0</td>\n",
              "      <td>-0.425966</td>\n",
              "      <td>0.960523</td>\n",
              "      <td>1.141109</td>\n",
              "      <td>-0.168252</td>\n",
              "      <td>0.420987</td>\n",
              "      <td>-0.029728</td>\n",
              "      <td>0.476201</td>\n",
              "      <td>0.260314</td>\n",
              "      <td>-0.568671</td>\n",
              "      <td>-0.371407</td>\n",
              "      <td>1.341262</td>\n",
              "      <td>0.359894</td>\n",
              "      <td>-0.358091</td>\n",
              "      <td>-0.137134</td>\n",
              "      <td>0.517617</td>\n",
              "      <td>0.401726</td>\n",
              "      <td>-0.058133</td>\n",
              "      <td>0.068653</td>\n",
              "      <td>-0.033194</td>\n",
              "      <td>0.084968</td>\n",
              "      <td>-0.208254</td>\n",
              "      <td>-0.559825</td>\n",
              "      <td>-0.026398</td>\n",
              "      <td>-0.371427</td>\n",
              "      <td>-0.232794</td>\n",
              "      <td>0.105915</td>\n",
              "      <td>0.253844</td>\n",
              "      <td>0.081080</td>\n",
              "      <td>3.67</td>\n",
              "      <td>0</td>\n",
              "    </tr>\n",
              "    <tr>\n",
              "      <th>6</th>\n",
              "      <td>4.0</td>\n",
              "      <td>1.229658</td>\n",
              "      <td>0.141004</td>\n",
              "      <td>0.045371</td>\n",
              "      <td>1.202613</td>\n",
              "      <td>0.191881</td>\n",
              "      <td>0.272708</td>\n",
              "      <td>-0.005159</td>\n",
              "      <td>0.081213</td>\n",
              "      <td>0.464960</td>\n",
              "      <td>-0.099254</td>\n",
              "      <td>-1.416907</td>\n",
              "      <td>-0.153826</td>\n",
              "      <td>-0.751063</td>\n",
              "      <td>0.167372</td>\n",
              "      <td>0.050144</td>\n",
              "      <td>-0.443587</td>\n",
              "      <td>0.002821</td>\n",
              "      <td>-0.611987</td>\n",
              "      <td>-0.045575</td>\n",
              "      <td>-0.219633</td>\n",
              "      <td>-0.167716</td>\n",
              "      <td>-0.270710</td>\n",
              "      <td>-0.154104</td>\n",
              "      <td>-0.780055</td>\n",
              "      <td>0.750137</td>\n",
              "      <td>-0.257237</td>\n",
              "      <td>0.034507</td>\n",
              "      <td>0.005168</td>\n",
              "      <td>4.99</td>\n",
              "      <td>0</td>\n",
              "    </tr>\n",
              "    <tr>\n",
              "      <th>7</th>\n",
              "      <td>7.0</td>\n",
              "      <td>-0.644269</td>\n",
              "      <td>1.417964</td>\n",
              "      <td>1.074380</td>\n",
              "      <td>-0.492199</td>\n",
              "      <td>0.948934</td>\n",
              "      <td>0.428118</td>\n",
              "      <td>1.120631</td>\n",
              "      <td>-3.807864</td>\n",
              "      <td>0.615375</td>\n",
              "      <td>1.249376</td>\n",
              "      <td>-0.619468</td>\n",
              "      <td>0.291474</td>\n",
              "      <td>1.757964</td>\n",
              "      <td>-1.323865</td>\n",
              "      <td>0.686133</td>\n",
              "      <td>-0.076127</td>\n",
              "      <td>-1.222127</td>\n",
              "      <td>-0.358222</td>\n",
              "      <td>0.324505</td>\n",
              "      <td>-0.156742</td>\n",
              "      <td>1.943465</td>\n",
              "      <td>-1.015455</td>\n",
              "      <td>0.057504</td>\n",
              "      <td>-0.649709</td>\n",
              "      <td>-0.415267</td>\n",
              "      <td>-0.051634</td>\n",
              "      <td>-1.206921</td>\n",
              "      <td>-1.085339</td>\n",
              "      <td>40.80</td>\n",
              "      <td>0</td>\n",
              "    </tr>\n",
              "    <tr>\n",
              "      <th>8</th>\n",
              "      <td>7.0</td>\n",
              "      <td>-0.894286</td>\n",
              "      <td>0.286157</td>\n",
              "      <td>-0.113192</td>\n",
              "      <td>-0.271526</td>\n",
              "      <td>2.669599</td>\n",
              "      <td>3.721818</td>\n",
              "      <td>0.370145</td>\n",
              "      <td>0.851084</td>\n",
              "      <td>-0.392048</td>\n",
              "      <td>-0.410430</td>\n",
              "      <td>-0.705117</td>\n",
              "      <td>-0.110452</td>\n",
              "      <td>-0.286254</td>\n",
              "      <td>0.074355</td>\n",
              "      <td>-0.328783</td>\n",
              "      <td>-0.210077</td>\n",
              "      <td>-0.499768</td>\n",
              "      <td>0.118765</td>\n",
              "      <td>0.570328</td>\n",
              "      <td>0.052736</td>\n",
              "      <td>-0.073425</td>\n",
              "      <td>-0.268092</td>\n",
              "      <td>-0.204233</td>\n",
              "      <td>1.011592</td>\n",
              "      <td>0.373205</td>\n",
              "      <td>-0.384157</td>\n",
              "      <td>0.011747</td>\n",
              "      <td>0.142404</td>\n",
              "      <td>93.20</td>\n",
              "      <td>0</td>\n",
              "    </tr>\n",
              "    <tr>\n",
              "      <th>9</th>\n",
              "      <td>9.0</td>\n",
              "      <td>-0.338262</td>\n",
              "      <td>1.119593</td>\n",
              "      <td>1.044367</td>\n",
              "      <td>-0.222187</td>\n",
              "      <td>0.499361</td>\n",
              "      <td>-0.246761</td>\n",
              "      <td>0.651583</td>\n",
              "      <td>0.069539</td>\n",
              "      <td>-0.736727</td>\n",
              "      <td>-0.366846</td>\n",
              "      <td>1.017614</td>\n",
              "      <td>0.836390</td>\n",
              "      <td>1.006844</td>\n",
              "      <td>-0.443523</td>\n",
              "      <td>0.150219</td>\n",
              "      <td>0.739453</td>\n",
              "      <td>-0.540980</td>\n",
              "      <td>0.476677</td>\n",
              "      <td>0.451773</td>\n",
              "      <td>0.203711</td>\n",
              "      <td>-0.246914</td>\n",
              "      <td>-0.633753</td>\n",
              "      <td>-0.120794</td>\n",
              "      <td>-0.385050</td>\n",
              "      <td>-0.069733</td>\n",
              "      <td>0.094199</td>\n",
              "      <td>0.246219</td>\n",
              "      <td>0.083076</td>\n",
              "      <td>3.68</td>\n",
              "      <td>0</td>\n",
              "    </tr>\n",
              "  </tbody>\n",
              "</table>\n",
              "</div>"
            ],
            "text/plain": [
              "   Time        V1        V2        V3  ...       V27       V28  Amount  Class\n",
              "0   0.0 -1.359807 -0.072781  2.536347  ...  0.133558 -0.021053  149.62      0\n",
              "1   0.0  1.191857  0.266151  0.166480  ... -0.008983  0.014724    2.69      0\n",
              "2   1.0 -1.358354 -1.340163  1.773209  ... -0.055353 -0.059752  378.66      0\n",
              "3   1.0 -0.966272 -0.185226  1.792993  ...  0.062723  0.061458  123.50      0\n",
              "4   2.0 -1.158233  0.877737  1.548718  ...  0.219422  0.215153   69.99      0\n",
              "5   2.0 -0.425966  0.960523  1.141109  ...  0.253844  0.081080    3.67      0\n",
              "6   4.0  1.229658  0.141004  0.045371  ...  0.034507  0.005168    4.99      0\n",
              "7   7.0 -0.644269  1.417964  1.074380  ... -1.206921 -1.085339   40.80      0\n",
              "8   7.0 -0.894286  0.286157 -0.113192  ...  0.011747  0.142404   93.20      0\n",
              "9   9.0 -0.338262  1.119593  1.044367  ...  0.246219  0.083076    3.68      0\n",
              "\n",
              "[10 rows x 31 columns]"
            ]
          },
          "metadata": {},
          "execution_count": 10
        }
      ]
    },
    {
      "cell_type": "markdown",
      "metadata": {
        "id": "jBH7sPQaOsJc"
      },
      "source": [
        "Show the 10 tail rows."
      ]
    },
    {
      "cell_type": "code",
      "metadata": {
        "colab": {
          "base_uri": "https://localhost:8080/",
          "height": 383
        },
        "id": "OdVI6Pbg1PFF",
        "outputId": "1430e52c-212e-452e-e1f7-49d1f67c3959"
      },
      "source": [
        "df.tail(10)"
      ],
      "execution_count": null,
      "outputs": [
        {
          "output_type": "execute_result",
          "data": {
            "text/html": [
              "<div>\n",
              "<style scoped>\n",
              "    .dataframe tbody tr th:only-of-type {\n",
              "        vertical-align: middle;\n",
              "    }\n",
              "\n",
              "    .dataframe tbody tr th {\n",
              "        vertical-align: top;\n",
              "    }\n",
              "\n",
              "    .dataframe thead th {\n",
              "        text-align: right;\n",
              "    }\n",
              "</style>\n",
              "<table border=\"1\" class=\"dataframe\">\n",
              "  <thead>\n",
              "    <tr style=\"text-align: right;\">\n",
              "      <th></th>\n",
              "      <th>V1</th>\n",
              "      <th>V2</th>\n",
              "      <th>V3</th>\n",
              "      <th>V4</th>\n",
              "      <th>V5</th>\n",
              "      <th>V6</th>\n",
              "      <th>V7</th>\n",
              "      <th>V8</th>\n",
              "      <th>V9</th>\n",
              "      <th>V10</th>\n",
              "      <th>V11</th>\n",
              "      <th>V12</th>\n",
              "      <th>V13</th>\n",
              "      <th>V14</th>\n",
              "      <th>V15</th>\n",
              "      <th>V16</th>\n",
              "      <th>V17</th>\n",
              "      <th>V18</th>\n",
              "      <th>V19</th>\n",
              "      <th>V20</th>\n",
              "      <th>V21</th>\n",
              "      <th>V22</th>\n",
              "      <th>V23</th>\n",
              "      <th>V24</th>\n",
              "      <th>V25</th>\n",
              "      <th>V26</th>\n",
              "      <th>V27</th>\n",
              "      <th>V28</th>\n",
              "      <th>Class</th>\n",
              "      <th>Amount_bc</th>\n",
              "    </tr>\n",
              "  </thead>\n",
              "  <tbody>\n",
              "    <tr>\n",
              "      <th>284797</th>\n",
              "      <td>-0.241923</td>\n",
              "      <td>0.712247</td>\n",
              "      <td>0.399806</td>\n",
              "      <td>-0.463406</td>\n",
              "      <td>0.244531</td>\n",
              "      <td>-1.343668</td>\n",
              "      <td>0.929369</td>\n",
              "      <td>-0.206210</td>\n",
              "      <td>0.106234</td>\n",
              "      <td>-0.284708</td>\n",
              "      <td>-0.612982</td>\n",
              "      <td>-0.066655</td>\n",
              "      <td>-0.732987</td>\n",
              "      <td>0.237948</td>\n",
              "      <td>-0.293959</td>\n",
              "      <td>-0.245496</td>\n",
              "      <td>-0.174846</td>\n",
              "      <td>-0.891169</td>\n",
              "      <td>-0.290491</td>\n",
              "      <td>-0.139512</td>\n",
              "      <td>-0.228876</td>\n",
              "      <td>-0.514376</td>\n",
              "      <td>0.279598</td>\n",
              "      <td>0.371441</td>\n",
              "      <td>-0.559238</td>\n",
              "      <td>0.113144</td>\n",
              "      <td>0.131507</td>\n",
              "      <td>0.081265</td>\n",
              "      <td>0</td>\n",
              "      <td>1.840805</td>\n",
              "    </tr>\n",
              "    <tr>\n",
              "      <th>284798</th>\n",
              "      <td>0.219529</td>\n",
              "      <td>0.881246</td>\n",
              "      <td>-0.635891</td>\n",
              "      <td>0.960928</td>\n",
              "      <td>-0.152971</td>\n",
              "      <td>-1.014307</td>\n",
              "      <td>0.427126</td>\n",
              "      <td>0.121340</td>\n",
              "      <td>-0.285670</td>\n",
              "      <td>-0.111640</td>\n",
              "      <td>-1.109232</td>\n",
              "      <td>-0.453235</td>\n",
              "      <td>-1.046946</td>\n",
              "      <td>1.122674</td>\n",
              "      <td>1.243518</td>\n",
              "      <td>-1.431897</td>\n",
              "      <td>0.939328</td>\n",
              "      <td>-0.002373</td>\n",
              "      <td>2.894952</td>\n",
              "      <td>0.006666</td>\n",
              "      <td>0.099936</td>\n",
              "      <td>0.337120</td>\n",
              "      <td>0.251791</td>\n",
              "      <td>0.057688</td>\n",
              "      <td>-1.508368</td>\n",
              "      <td>0.144023</td>\n",
              "      <td>0.181205</td>\n",
              "      <td>0.215243</td>\n",
              "      <td>0</td>\n",
              "      <td>3.134170</td>\n",
              "    </tr>\n",
              "    <tr>\n",
              "      <th>284799</th>\n",
              "      <td>-1.775135</td>\n",
              "      <td>-0.004235</td>\n",
              "      <td>1.189786</td>\n",
              "      <td>0.331096</td>\n",
              "      <td>1.196063</td>\n",
              "      <td>5.519980</td>\n",
              "      <td>-1.518185</td>\n",
              "      <td>2.080825</td>\n",
              "      <td>1.159498</td>\n",
              "      <td>-0.594242</td>\n",
              "      <td>-1.264072</td>\n",
              "      <td>0.453596</td>\n",
              "      <td>-0.243142</td>\n",
              "      <td>-0.858719</td>\n",
              "      <td>-0.766554</td>\n",
              "      <td>-0.644646</td>\n",
              "      <td>0.447184</td>\n",
              "      <td>0.388721</td>\n",
              "      <td>0.792135</td>\n",
              "      <td>0.348176</td>\n",
              "      <td>0.103302</td>\n",
              "      <td>0.654850</td>\n",
              "      <td>-0.348929</td>\n",
              "      <td>0.745323</td>\n",
              "      <td>0.704545</td>\n",
              "      <td>-0.127579</td>\n",
              "      <td>0.454379</td>\n",
              "      <td>0.130308</td>\n",
              "      <td>0</td>\n",
              "      <td>4.233995</td>\n",
              "    </tr>\n",
              "    <tr>\n",
              "      <th>284800</th>\n",
              "      <td>2.039560</td>\n",
              "      <td>-0.175233</td>\n",
              "      <td>-1.196825</td>\n",
              "      <td>0.234580</td>\n",
              "      <td>-0.008713</td>\n",
              "      <td>-0.726571</td>\n",
              "      <td>0.017050</td>\n",
              "      <td>-0.118228</td>\n",
              "      <td>0.435402</td>\n",
              "      <td>0.267772</td>\n",
              "      <td>0.523316</td>\n",
              "      <td>0.559047</td>\n",
              "      <td>-0.834660</td>\n",
              "      <td>0.626211</td>\n",
              "      <td>-0.541494</td>\n",
              "      <td>0.225361</td>\n",
              "      <td>-0.605252</td>\n",
              "      <td>-0.163049</td>\n",
              "      <td>0.561695</td>\n",
              "      <td>-0.256922</td>\n",
              "      <td>-0.268048</td>\n",
              "      <td>-0.717211</td>\n",
              "      <td>0.297930</td>\n",
              "      <td>-0.359769</td>\n",
              "      <td>-0.315610</td>\n",
              "      <td>0.201114</td>\n",
              "      <td>-0.080826</td>\n",
              "      <td>-0.075071</td>\n",
              "      <td>0</td>\n",
              "      <td>1.288570</td>\n",
              "    </tr>\n",
              "    <tr>\n",
              "      <th>284801</th>\n",
              "      <td>0.120316</td>\n",
              "      <td>0.931005</td>\n",
              "      <td>-0.546012</td>\n",
              "      <td>-0.745097</td>\n",
              "      <td>1.130314</td>\n",
              "      <td>-0.235973</td>\n",
              "      <td>0.812722</td>\n",
              "      <td>0.115093</td>\n",
              "      <td>-0.204064</td>\n",
              "      <td>-0.657422</td>\n",
              "      <td>0.644837</td>\n",
              "      <td>0.190916</td>\n",
              "      <td>-0.546329</td>\n",
              "      <td>-0.731707</td>\n",
              "      <td>-0.808036</td>\n",
              "      <td>0.599628</td>\n",
              "      <td>0.070441</td>\n",
              "      <td>0.373110</td>\n",
              "      <td>0.128904</td>\n",
              "      <td>0.000676</td>\n",
              "      <td>-0.314205</td>\n",
              "      <td>-0.808520</td>\n",
              "      <td>0.050343</td>\n",
              "      <td>0.102800</td>\n",
              "      <td>-0.435870</td>\n",
              "      <td>0.124079</td>\n",
              "      <td>0.217940</td>\n",
              "      <td>0.068803</td>\n",
              "      <td>0</td>\n",
              "      <td>1.291225</td>\n",
              "    </tr>\n",
              "    <tr>\n",
              "      <th>284802</th>\n",
              "      <td>-11.881118</td>\n",
              "      <td>10.071785</td>\n",
              "      <td>-9.834783</td>\n",
              "      <td>-2.066656</td>\n",
              "      <td>-5.364473</td>\n",
              "      <td>-2.606837</td>\n",
              "      <td>-4.918215</td>\n",
              "      <td>7.305334</td>\n",
              "      <td>1.914428</td>\n",
              "      <td>4.356170</td>\n",
              "      <td>-1.593105</td>\n",
              "      <td>2.711941</td>\n",
              "      <td>-0.689256</td>\n",
              "      <td>4.626942</td>\n",
              "      <td>-0.924459</td>\n",
              "      <td>1.107641</td>\n",
              "      <td>1.991691</td>\n",
              "      <td>0.510632</td>\n",
              "      <td>-0.682920</td>\n",
              "      <td>1.475829</td>\n",
              "      <td>0.213454</td>\n",
              "      <td>0.111864</td>\n",
              "      <td>1.014480</td>\n",
              "      <td>-0.509348</td>\n",
              "      <td>1.436807</td>\n",
              "      <td>0.250034</td>\n",
              "      <td>0.943651</td>\n",
              "      <td>0.823731</td>\n",
              "      <td>0</td>\n",
              "      <td>0.568214</td>\n",
              "    </tr>\n",
              "    <tr>\n",
              "      <th>284803</th>\n",
              "      <td>-0.732789</td>\n",
              "      <td>-0.055080</td>\n",
              "      <td>2.035030</td>\n",
              "      <td>-0.738589</td>\n",
              "      <td>0.868229</td>\n",
              "      <td>1.058415</td>\n",
              "      <td>0.024330</td>\n",
              "      <td>0.294869</td>\n",
              "      <td>0.584800</td>\n",
              "      <td>-0.975926</td>\n",
              "      <td>-0.150189</td>\n",
              "      <td>0.915802</td>\n",
              "      <td>1.214756</td>\n",
              "      <td>-0.675143</td>\n",
              "      <td>1.164931</td>\n",
              "      <td>-0.711757</td>\n",
              "      <td>-0.025693</td>\n",
              "      <td>-1.221179</td>\n",
              "      <td>-1.545556</td>\n",
              "      <td>0.059616</td>\n",
              "      <td>0.214205</td>\n",
              "      <td>0.924384</td>\n",
              "      <td>0.012463</td>\n",
              "      <td>-1.016226</td>\n",
              "      <td>-0.606624</td>\n",
              "      <td>-0.395255</td>\n",
              "      <td>0.068472</td>\n",
              "      <td>-0.053527</td>\n",
              "      <td>0</td>\n",
              "      <td>3.161722</td>\n",
              "    </tr>\n",
              "    <tr>\n",
              "      <th>284804</th>\n",
              "      <td>1.919565</td>\n",
              "      <td>-0.301254</td>\n",
              "      <td>-3.249640</td>\n",
              "      <td>-0.557828</td>\n",
              "      <td>2.630515</td>\n",
              "      <td>3.031260</td>\n",
              "      <td>-0.296827</td>\n",
              "      <td>0.708417</td>\n",
              "      <td>0.432454</td>\n",
              "      <td>-0.484782</td>\n",
              "      <td>0.411614</td>\n",
              "      <td>0.063119</td>\n",
              "      <td>-0.183699</td>\n",
              "      <td>-0.510602</td>\n",
              "      <td>1.329284</td>\n",
              "      <td>0.140716</td>\n",
              "      <td>0.313502</td>\n",
              "      <td>0.395652</td>\n",
              "      <td>-0.577252</td>\n",
              "      <td>0.001396</td>\n",
              "      <td>0.232045</td>\n",
              "      <td>0.578229</td>\n",
              "      <td>-0.037501</td>\n",
              "      <td>0.640134</td>\n",
              "      <td>0.265745</td>\n",
              "      <td>-0.087371</td>\n",
              "      <td>0.004455</td>\n",
              "      <td>-0.026561</td>\n",
              "      <td>0</td>\n",
              "      <td>4.083501</td>\n",
              "    </tr>\n",
              "    <tr>\n",
              "      <th>284805</th>\n",
              "      <td>-0.240440</td>\n",
              "      <td>0.530483</td>\n",
              "      <td>0.702510</td>\n",
              "      <td>0.689799</td>\n",
              "      <td>-0.377961</td>\n",
              "      <td>0.623708</td>\n",
              "      <td>-0.686180</td>\n",
              "      <td>0.679145</td>\n",
              "      <td>0.392087</td>\n",
              "      <td>-0.399126</td>\n",
              "      <td>-1.933849</td>\n",
              "      <td>-0.962886</td>\n",
              "      <td>-1.042082</td>\n",
              "      <td>0.449624</td>\n",
              "      <td>1.962563</td>\n",
              "      <td>-0.608577</td>\n",
              "      <td>0.509928</td>\n",
              "      <td>1.113981</td>\n",
              "      <td>2.897849</td>\n",
              "      <td>0.127434</td>\n",
              "      <td>0.265245</td>\n",
              "      <td>0.800049</td>\n",
              "      <td>-0.163298</td>\n",
              "      <td>0.123205</td>\n",
              "      <td>-0.569159</td>\n",
              "      <td>0.546668</td>\n",
              "      <td>0.108821</td>\n",
              "      <td>0.104533</td>\n",
              "      <td>0</td>\n",
              "      <td>2.349615</td>\n",
              "    </tr>\n",
              "    <tr>\n",
              "      <th>284806</th>\n",
              "      <td>-0.533413</td>\n",
              "      <td>-0.189733</td>\n",
              "      <td>0.703337</td>\n",
              "      <td>-0.506271</td>\n",
              "      <td>-0.012546</td>\n",
              "      <td>-0.649617</td>\n",
              "      <td>1.577006</td>\n",
              "      <td>-0.414650</td>\n",
              "      <td>0.486180</td>\n",
              "      <td>-0.915427</td>\n",
              "      <td>-1.040458</td>\n",
              "      <td>-0.031513</td>\n",
              "      <td>-0.188093</td>\n",
              "      <td>-0.084316</td>\n",
              "      <td>0.041333</td>\n",
              "      <td>-0.302620</td>\n",
              "      <td>-0.660377</td>\n",
              "      <td>0.167430</td>\n",
              "      <td>-0.256117</td>\n",
              "      <td>0.382948</td>\n",
              "      <td>0.261057</td>\n",
              "      <td>0.643078</td>\n",
              "      <td>0.376777</td>\n",
              "      <td>0.008797</td>\n",
              "      <td>-0.473649</td>\n",
              "      <td>-0.818267</td>\n",
              "      <td>-0.002415</td>\n",
              "      <td>0.013649</td>\n",
              "      <td>0</td>\n",
              "      <td>5.145099</td>\n",
              "    </tr>\n",
              "  </tbody>\n",
              "</table>\n",
              "</div>"
            ],
            "text/plain": [
              "               V1         V2        V3  ...       V28  Class  Amount_bc\n",
              "284797  -0.241923   0.712247  0.399806  ...  0.081265      0   1.840805\n",
              "284798   0.219529   0.881246 -0.635891  ...  0.215243      0   3.134170\n",
              "284799  -1.775135  -0.004235  1.189786  ...  0.130308      0   4.233995\n",
              "284800   2.039560  -0.175233 -1.196825  ... -0.075071      0   1.288570\n",
              "284801   0.120316   0.931005 -0.546012  ...  0.068803      0   1.291225\n",
              "284802 -11.881118  10.071785 -9.834783  ...  0.823731      0   0.568214\n",
              "284803  -0.732789  -0.055080  2.035030  ... -0.053527      0   3.161722\n",
              "284804   1.919565  -0.301254 -3.249640  ... -0.026561      0   4.083501\n",
              "284805  -0.240440   0.530483  0.702510  ...  0.104533      0   2.349615\n",
              "284806  -0.533413  -0.189733  0.703337  ...  0.013649      0   5.145099\n",
              "\n",
              "[10 rows x 30 columns]"
            ]
          },
          "metadata": {},
          "execution_count": 30
        }
      ]
    },
    {
      "cell_type": "markdown",
      "metadata": {
        "id": "ICvKgrIxO3Nz"
      },
      "source": [
        "To check how many rows and column are there."
      ]
    },
    {
      "cell_type": "code",
      "metadata": {
        "colab": {
          "base_uri": "https://localhost:8080/"
        },
        "id": "gB6gJ4YC1bLt",
        "outputId": "5823996e-7abb-4dfb-8e51-5b1c0a4457be"
      },
      "source": [
        "df.shape"
      ],
      "execution_count": null,
      "outputs": [
        {
          "output_type": "execute_result",
          "data": {
            "text/plain": [
              "(284807, 31)"
            ]
          },
          "metadata": {},
          "execution_count": 12
        }
      ]
    },
    {
      "cell_type": "code",
      "metadata": {
        "colab": {
          "base_uri": "https://localhost:8080/"
        },
        "id": "Spk9GdfE1idO",
        "outputId": "9c34eda3-7a45-4381-e679-e67eb6d8b744"
      },
      "source": [
        "df.describe"
      ],
      "execution_count": null,
      "outputs": [
        {
          "output_type": "execute_result",
          "data": {
            "text/plain": [
              "<bound method NDFrame.describe of             Time         V1         V2  ...       V28  Amount  Class\n",
              "0            0.0  -1.359807  -0.072781  ... -0.021053  149.62      0\n",
              "1            0.0   1.191857   0.266151  ...  0.014724    2.69      0\n",
              "2            1.0  -1.358354  -1.340163  ... -0.059752  378.66      0\n",
              "3            1.0  -0.966272  -0.185226  ...  0.061458  123.50      0\n",
              "4            2.0  -1.158233   0.877737  ...  0.215153   69.99      0\n",
              "...          ...        ...        ...  ...       ...     ...    ...\n",
              "284802  172786.0 -11.881118  10.071785  ...  0.823731    0.77      0\n",
              "284803  172787.0  -0.732789  -0.055080  ... -0.053527   24.79      0\n",
              "284804  172788.0   1.919565  -0.301254  ... -0.026561   67.88      0\n",
              "284805  172788.0  -0.240440   0.530483  ...  0.104533   10.00      0\n",
              "284806  172792.0  -0.533413  -0.189733  ...  0.013649  217.00      0\n",
              "\n",
              "[284807 rows x 31 columns]>"
            ]
          },
          "metadata": {},
          "execution_count": 13
        }
      ]
    },
    {
      "cell_type": "markdown",
      "metadata": {
        "id": "3aQnt4v31uDE"
      },
      "source": [
        "##Check for Duplicates"
      ]
    },
    {
      "cell_type": "code",
      "metadata": {
        "colab": {
          "base_uri": "https://localhost:8080/",
          "height": 443
        },
        "id": "yW9uUzW41pjc",
        "outputId": "938e063f-b554-4569-b52d-3a19d47d9be1"
      },
      "source": [
        "df[df.duplicated()]"
      ],
      "execution_count": null,
      "outputs": [
        {
          "output_type": "execute_result",
          "data": {
            "text/html": [
              "<div>\n",
              "<style scoped>\n",
              "    .dataframe tbody tr th:only-of-type {\n",
              "        vertical-align: middle;\n",
              "    }\n",
              "\n",
              "    .dataframe tbody tr th {\n",
              "        vertical-align: top;\n",
              "    }\n",
              "\n",
              "    .dataframe thead th {\n",
              "        text-align: right;\n",
              "    }\n",
              "</style>\n",
              "<table border=\"1\" class=\"dataframe\">\n",
              "  <thead>\n",
              "    <tr style=\"text-align: right;\">\n",
              "      <th></th>\n",
              "      <th>Time</th>\n",
              "      <th>V1</th>\n",
              "      <th>V2</th>\n",
              "      <th>V3</th>\n",
              "      <th>V4</th>\n",
              "      <th>V5</th>\n",
              "      <th>V6</th>\n",
              "      <th>V7</th>\n",
              "      <th>V8</th>\n",
              "      <th>V9</th>\n",
              "      <th>V10</th>\n",
              "      <th>V11</th>\n",
              "      <th>V12</th>\n",
              "      <th>V13</th>\n",
              "      <th>V14</th>\n",
              "      <th>V15</th>\n",
              "      <th>V16</th>\n",
              "      <th>V17</th>\n",
              "      <th>V18</th>\n",
              "      <th>V19</th>\n",
              "      <th>V20</th>\n",
              "      <th>V21</th>\n",
              "      <th>V22</th>\n",
              "      <th>V23</th>\n",
              "      <th>V24</th>\n",
              "      <th>V25</th>\n",
              "      <th>V26</th>\n",
              "      <th>V27</th>\n",
              "      <th>V28</th>\n",
              "      <th>Amount</th>\n",
              "      <th>Class</th>\n",
              "    </tr>\n",
              "  </thead>\n",
              "  <tbody>\n",
              "    <tr>\n",
              "      <th>33</th>\n",
              "      <td>26.0</td>\n",
              "      <td>-0.529912</td>\n",
              "      <td>0.873892</td>\n",
              "      <td>1.347247</td>\n",
              "      <td>0.145457</td>\n",
              "      <td>0.414209</td>\n",
              "      <td>0.100223</td>\n",
              "      <td>0.711206</td>\n",
              "      <td>0.176066</td>\n",
              "      <td>-0.286717</td>\n",
              "      <td>-0.484688</td>\n",
              "      <td>0.872490</td>\n",
              "      <td>0.851636</td>\n",
              "      <td>-0.571745</td>\n",
              "      <td>0.100974</td>\n",
              "      <td>-1.519772</td>\n",
              "      <td>-0.284376</td>\n",
              "      <td>-0.310524</td>\n",
              "      <td>-0.404248</td>\n",
              "      <td>-0.823374</td>\n",
              "      <td>-0.290348</td>\n",
              "      <td>0.046949</td>\n",
              "      <td>0.208105</td>\n",
              "      <td>-0.185548</td>\n",
              "      <td>0.001031</td>\n",
              "      <td>0.098816</td>\n",
              "      <td>-0.552904</td>\n",
              "      <td>-0.073288</td>\n",
              "      <td>0.023307</td>\n",
              "      <td>6.14</td>\n",
              "      <td>0</td>\n",
              "    </tr>\n",
              "    <tr>\n",
              "      <th>35</th>\n",
              "      <td>26.0</td>\n",
              "      <td>-0.535388</td>\n",
              "      <td>0.865268</td>\n",
              "      <td>1.351076</td>\n",
              "      <td>0.147575</td>\n",
              "      <td>0.433680</td>\n",
              "      <td>0.086983</td>\n",
              "      <td>0.693039</td>\n",
              "      <td>0.179742</td>\n",
              "      <td>-0.285642</td>\n",
              "      <td>-0.482474</td>\n",
              "      <td>0.871800</td>\n",
              "      <td>0.853447</td>\n",
              "      <td>-0.571822</td>\n",
              "      <td>0.102252</td>\n",
              "      <td>-1.519991</td>\n",
              "      <td>-0.285912</td>\n",
              "      <td>-0.309633</td>\n",
              "      <td>-0.403902</td>\n",
              "      <td>-0.823743</td>\n",
              "      <td>-0.283264</td>\n",
              "      <td>0.049526</td>\n",
              "      <td>0.206537</td>\n",
              "      <td>-0.187108</td>\n",
              "      <td>0.000753</td>\n",
              "      <td>0.098117</td>\n",
              "      <td>-0.553471</td>\n",
              "      <td>-0.078306</td>\n",
              "      <td>0.025427</td>\n",
              "      <td>1.77</td>\n",
              "      <td>0</td>\n",
              "    </tr>\n",
              "    <tr>\n",
              "      <th>113</th>\n",
              "      <td>74.0</td>\n",
              "      <td>1.038370</td>\n",
              "      <td>0.127486</td>\n",
              "      <td>0.184456</td>\n",
              "      <td>1.109950</td>\n",
              "      <td>0.441699</td>\n",
              "      <td>0.945283</td>\n",
              "      <td>-0.036715</td>\n",
              "      <td>0.350995</td>\n",
              "      <td>0.118950</td>\n",
              "      <td>-0.243289</td>\n",
              "      <td>0.578063</td>\n",
              "      <td>0.674730</td>\n",
              "      <td>-0.534231</td>\n",
              "      <td>0.446601</td>\n",
              "      <td>1.122885</td>\n",
              "      <td>-1.768001</td>\n",
              "      <td>1.241157</td>\n",
              "      <td>-2.449500</td>\n",
              "      <td>-1.747255</td>\n",
              "      <td>-0.335520</td>\n",
              "      <td>0.102520</td>\n",
              "      <td>0.605089</td>\n",
              "      <td>0.023092</td>\n",
              "      <td>-0.626463</td>\n",
              "      <td>0.479120</td>\n",
              "      <td>-0.166937</td>\n",
              "      <td>0.081247</td>\n",
              "      <td>0.001192</td>\n",
              "      <td>1.18</td>\n",
              "      <td>0</td>\n",
              "    </tr>\n",
              "    <tr>\n",
              "      <th>114</th>\n",
              "      <td>74.0</td>\n",
              "      <td>1.038370</td>\n",
              "      <td>0.127486</td>\n",
              "      <td>0.184456</td>\n",
              "      <td>1.109950</td>\n",
              "      <td>0.441699</td>\n",
              "      <td>0.945283</td>\n",
              "      <td>-0.036715</td>\n",
              "      <td>0.350995</td>\n",
              "      <td>0.118950</td>\n",
              "      <td>-0.243289</td>\n",
              "      <td>0.578063</td>\n",
              "      <td>0.674730</td>\n",
              "      <td>-0.534231</td>\n",
              "      <td>0.446601</td>\n",
              "      <td>1.122885</td>\n",
              "      <td>-1.768001</td>\n",
              "      <td>1.241157</td>\n",
              "      <td>-2.449500</td>\n",
              "      <td>-1.747255</td>\n",
              "      <td>-0.335520</td>\n",
              "      <td>0.102520</td>\n",
              "      <td>0.605089</td>\n",
              "      <td>0.023092</td>\n",
              "      <td>-0.626463</td>\n",
              "      <td>0.479120</td>\n",
              "      <td>-0.166937</td>\n",
              "      <td>0.081247</td>\n",
              "      <td>0.001192</td>\n",
              "      <td>1.18</td>\n",
              "      <td>0</td>\n",
              "    </tr>\n",
              "    <tr>\n",
              "      <th>115</th>\n",
              "      <td>74.0</td>\n",
              "      <td>1.038370</td>\n",
              "      <td>0.127486</td>\n",
              "      <td>0.184456</td>\n",
              "      <td>1.109950</td>\n",
              "      <td>0.441699</td>\n",
              "      <td>0.945283</td>\n",
              "      <td>-0.036715</td>\n",
              "      <td>0.350995</td>\n",
              "      <td>0.118950</td>\n",
              "      <td>-0.243289</td>\n",
              "      <td>0.578063</td>\n",
              "      <td>0.674730</td>\n",
              "      <td>-0.534231</td>\n",
              "      <td>0.446601</td>\n",
              "      <td>1.122885</td>\n",
              "      <td>-1.768001</td>\n",
              "      <td>1.241157</td>\n",
              "      <td>-2.449500</td>\n",
              "      <td>-1.747255</td>\n",
              "      <td>-0.335520</td>\n",
              "      <td>0.102520</td>\n",
              "      <td>0.605089</td>\n",
              "      <td>0.023092</td>\n",
              "      <td>-0.626463</td>\n",
              "      <td>0.479120</td>\n",
              "      <td>-0.166937</td>\n",
              "      <td>0.081247</td>\n",
              "      <td>0.001192</td>\n",
              "      <td>1.18</td>\n",
              "      <td>0</td>\n",
              "    </tr>\n",
              "    <tr>\n",
              "      <th>...</th>\n",
              "      <td>...</td>\n",
              "      <td>...</td>\n",
              "      <td>...</td>\n",
              "      <td>...</td>\n",
              "      <td>...</td>\n",
              "      <td>...</td>\n",
              "      <td>...</td>\n",
              "      <td>...</td>\n",
              "      <td>...</td>\n",
              "      <td>...</td>\n",
              "      <td>...</td>\n",
              "      <td>...</td>\n",
              "      <td>...</td>\n",
              "      <td>...</td>\n",
              "      <td>...</td>\n",
              "      <td>...</td>\n",
              "      <td>...</td>\n",
              "      <td>...</td>\n",
              "      <td>...</td>\n",
              "      <td>...</td>\n",
              "      <td>...</td>\n",
              "      <td>...</td>\n",
              "      <td>...</td>\n",
              "      <td>...</td>\n",
              "      <td>...</td>\n",
              "      <td>...</td>\n",
              "      <td>...</td>\n",
              "      <td>...</td>\n",
              "      <td>...</td>\n",
              "      <td>...</td>\n",
              "      <td>...</td>\n",
              "    </tr>\n",
              "    <tr>\n",
              "      <th>282987</th>\n",
              "      <td>171288.0</td>\n",
              "      <td>1.912550</td>\n",
              "      <td>-0.455240</td>\n",
              "      <td>-1.750654</td>\n",
              "      <td>0.454324</td>\n",
              "      <td>2.089130</td>\n",
              "      <td>4.160019</td>\n",
              "      <td>-0.881302</td>\n",
              "      <td>1.081750</td>\n",
              "      <td>1.022928</td>\n",
              "      <td>0.005356</td>\n",
              "      <td>-0.541998</td>\n",
              "      <td>0.745036</td>\n",
              "      <td>-0.375165</td>\n",
              "      <td>-0.068227</td>\n",
              "      <td>-0.795939</td>\n",
              "      <td>-0.497901</td>\n",
              "      <td>-0.134224</td>\n",
              "      <td>-1.004958</td>\n",
              "      <td>0.086074</td>\n",
              "      <td>-0.207620</td>\n",
              "      <td>-0.524067</td>\n",
              "      <td>-1.337510</td>\n",
              "      <td>0.473943</td>\n",
              "      <td>0.616683</td>\n",
              "      <td>-0.283548</td>\n",
              "      <td>-1.084843</td>\n",
              "      <td>0.073133</td>\n",
              "      <td>-0.036020</td>\n",
              "      <td>11.99</td>\n",
              "      <td>0</td>\n",
              "    </tr>\n",
              "    <tr>\n",
              "      <th>283483</th>\n",
              "      <td>171627.0</td>\n",
              "      <td>-1.464380</td>\n",
              "      <td>1.368119</td>\n",
              "      <td>0.815992</td>\n",
              "      <td>-0.601282</td>\n",
              "      <td>-0.689115</td>\n",
              "      <td>-0.487154</td>\n",
              "      <td>-0.303778</td>\n",
              "      <td>0.884953</td>\n",
              "      <td>0.054065</td>\n",
              "      <td>-0.828015</td>\n",
              "      <td>-1.192581</td>\n",
              "      <td>0.944989</td>\n",
              "      <td>1.372532</td>\n",
              "      <td>-0.036493</td>\n",
              "      <td>-0.208747</td>\n",
              "      <td>0.320086</td>\n",
              "      <td>-0.204910</td>\n",
              "      <td>-0.024821</td>\n",
              "      <td>-0.468859</td>\n",
              "      <td>0.031950</td>\n",
              "      <td>0.287217</td>\n",
              "      <td>0.947825</td>\n",
              "      <td>-0.218773</td>\n",
              "      <td>0.082926</td>\n",
              "      <td>0.044127</td>\n",
              "      <td>0.639270</td>\n",
              "      <td>0.213565</td>\n",
              "      <td>0.119251</td>\n",
              "      <td>6.82</td>\n",
              "      <td>0</td>\n",
              "    </tr>\n",
              "    <tr>\n",
              "      <th>283485</th>\n",
              "      <td>171627.0</td>\n",
              "      <td>-1.457978</td>\n",
              "      <td>1.378203</td>\n",
              "      <td>0.811515</td>\n",
              "      <td>-0.603760</td>\n",
              "      <td>-0.711883</td>\n",
              "      <td>-0.471672</td>\n",
              "      <td>-0.282535</td>\n",
              "      <td>0.880654</td>\n",
              "      <td>0.052808</td>\n",
              "      <td>-0.830603</td>\n",
              "      <td>-1.191774</td>\n",
              "      <td>0.942870</td>\n",
              "      <td>1.372621</td>\n",
              "      <td>-0.037988</td>\n",
              "      <td>-0.208490</td>\n",
              "      <td>0.321883</td>\n",
              "      <td>-0.205951</td>\n",
              "      <td>-0.025225</td>\n",
              "      <td>-0.468427</td>\n",
              "      <td>0.023667</td>\n",
              "      <td>0.284205</td>\n",
              "      <td>0.949659</td>\n",
              "      <td>-0.216949</td>\n",
              "      <td>0.083250</td>\n",
              "      <td>0.044944</td>\n",
              "      <td>0.639933</td>\n",
              "      <td>0.219432</td>\n",
              "      <td>0.116772</td>\n",
              "      <td>11.93</td>\n",
              "      <td>0</td>\n",
              "    </tr>\n",
              "    <tr>\n",
              "      <th>284191</th>\n",
              "      <td>172233.0</td>\n",
              "      <td>-2.667936</td>\n",
              "      <td>3.160505</td>\n",
              "      <td>-3.355984</td>\n",
              "      <td>1.007845</td>\n",
              "      <td>-0.377397</td>\n",
              "      <td>-0.109730</td>\n",
              "      <td>-0.667233</td>\n",
              "      <td>2.309700</td>\n",
              "      <td>-1.639306</td>\n",
              "      <td>-1.449823</td>\n",
              "      <td>-0.508930</td>\n",
              "      <td>0.600035</td>\n",
              "      <td>-0.627313</td>\n",
              "      <td>1.017499</td>\n",
              "      <td>-0.887384</td>\n",
              "      <td>0.420096</td>\n",
              "      <td>1.856497</td>\n",
              "      <td>1.315099</td>\n",
              "      <td>1.096112</td>\n",
              "      <td>-0.821707</td>\n",
              "      <td>0.391483</td>\n",
              "      <td>0.266536</td>\n",
              "      <td>-0.079853</td>\n",
              "      <td>-0.096395</td>\n",
              "      <td>0.086719</td>\n",
              "      <td>-0.451128</td>\n",
              "      <td>-1.183743</td>\n",
              "      <td>-0.222200</td>\n",
              "      <td>55.66</td>\n",
              "      <td>0</td>\n",
              "    </tr>\n",
              "    <tr>\n",
              "      <th>284193</th>\n",
              "      <td>172233.0</td>\n",
              "      <td>-2.691642</td>\n",
              "      <td>3.123168</td>\n",
              "      <td>-3.339407</td>\n",
              "      <td>1.017018</td>\n",
              "      <td>-0.293095</td>\n",
              "      <td>-0.167054</td>\n",
              "      <td>-0.745886</td>\n",
              "      <td>2.325616</td>\n",
              "      <td>-1.634651</td>\n",
              "      <td>-1.440241</td>\n",
              "      <td>-0.511918</td>\n",
              "      <td>0.607878</td>\n",
              "      <td>-0.627645</td>\n",
              "      <td>1.023032</td>\n",
              "      <td>-0.888334</td>\n",
              "      <td>0.413444</td>\n",
              "      <td>1.860351</td>\n",
              "      <td>1.316597</td>\n",
              "      <td>1.094512</td>\n",
              "      <td>-0.791037</td>\n",
              "      <td>0.402639</td>\n",
              "      <td>0.259746</td>\n",
              "      <td>-0.086606</td>\n",
              "      <td>-0.097597</td>\n",
              "      <td>0.083693</td>\n",
              "      <td>-0.453584</td>\n",
              "      <td>-1.205466</td>\n",
              "      <td>-0.213020</td>\n",
              "      <td>36.74</td>\n",
              "      <td>0</td>\n",
              "    </tr>\n",
              "  </tbody>\n",
              "</table>\n",
              "<p>1081 rows × 31 columns</p>\n",
              "</div>"
            ],
            "text/plain": [
              "            Time        V1        V2  ...       V28  Amount  Class\n",
              "33          26.0 -0.529912  0.873892  ...  0.023307    6.14      0\n",
              "35          26.0 -0.535388  0.865268  ...  0.025427    1.77      0\n",
              "113         74.0  1.038370  0.127486  ...  0.001192    1.18      0\n",
              "114         74.0  1.038370  0.127486  ...  0.001192    1.18      0\n",
              "115         74.0  1.038370  0.127486  ...  0.001192    1.18      0\n",
              "...          ...       ...       ...  ...       ...     ...    ...\n",
              "282987  171288.0  1.912550 -0.455240  ... -0.036020   11.99      0\n",
              "283483  171627.0 -1.464380  1.368119  ...  0.119251    6.82      0\n",
              "283485  171627.0 -1.457978  1.378203  ...  0.116772   11.93      0\n",
              "284191  172233.0 -2.667936  3.160505  ... -0.222200   55.66      0\n",
              "284193  172233.0 -2.691642  3.123168  ... -0.213020   36.74      0\n",
              "\n",
              "[1081 rows x 31 columns]"
            ]
          },
          "metadata": {},
          "execution_count": 14
        }
      ]
    },
    {
      "cell_type": "markdown",
      "metadata": {
        "id": "cnATf6dx2Glc"
      },
      "source": [
        "Check the number of Duplicates in "
      ]
    },
    {
      "cell_type": "code",
      "metadata": {
        "colab": {
          "base_uri": "https://localhost:8080/"
        },
        "id": "5izBxHbm2Blt",
        "outputId": "a0d0cf89-bb73-4a63-8900-98ffc1449281"
      },
      "source": [
        "df[df.duplicated()].shape"
      ],
      "execution_count": null,
      "outputs": [
        {
          "output_type": "execute_result",
          "data": {
            "text/plain": [
              "(1081, 31)"
            ]
          },
          "metadata": {},
          "execution_count": 15
        }
      ]
    },
    {
      "cell_type": "code",
      "metadata": {
        "id": "gtab7Aav3_aS"
      },
      "source": [
        "#df = df[~df.duplicated()]"
      ],
      "execution_count": null,
      "outputs": []
    },
    {
      "cell_type": "code",
      "metadata": {
        "id": "fzbw983F4B3g"
      },
      "source": [
        "df.drop('Time', axis=1, inplace=True)"
      ],
      "execution_count": null,
      "outputs": []
    },
    {
      "cell_type": "code",
      "metadata": {
        "colab": {
          "base_uri": "https://localhost:8080/",
          "height": 443
        },
        "id": "H-tOH1VN5d3v",
        "outputId": "315b5ab9-c016-4f7a-8030-3fe2090ad9cc"
      },
      "source": [
        "df[df.duplicated()]"
      ],
      "execution_count": null,
      "outputs": [
        {
          "output_type": "execute_result",
          "data": {
            "text/html": [
              "<div>\n",
              "<style scoped>\n",
              "    .dataframe tbody tr th:only-of-type {\n",
              "        vertical-align: middle;\n",
              "    }\n",
              "\n",
              "    .dataframe tbody tr th {\n",
              "        vertical-align: top;\n",
              "    }\n",
              "\n",
              "    .dataframe thead th {\n",
              "        text-align: right;\n",
              "    }\n",
              "</style>\n",
              "<table border=\"1\" class=\"dataframe\">\n",
              "  <thead>\n",
              "    <tr style=\"text-align: right;\">\n",
              "      <th></th>\n",
              "      <th>V1</th>\n",
              "      <th>V2</th>\n",
              "      <th>V3</th>\n",
              "      <th>V4</th>\n",
              "      <th>V5</th>\n",
              "      <th>V6</th>\n",
              "      <th>V7</th>\n",
              "      <th>V8</th>\n",
              "      <th>V9</th>\n",
              "      <th>V10</th>\n",
              "      <th>V11</th>\n",
              "      <th>V12</th>\n",
              "      <th>V13</th>\n",
              "      <th>V14</th>\n",
              "      <th>V15</th>\n",
              "      <th>V16</th>\n",
              "      <th>V17</th>\n",
              "      <th>V18</th>\n",
              "      <th>V19</th>\n",
              "      <th>V20</th>\n",
              "      <th>V21</th>\n",
              "      <th>V22</th>\n",
              "      <th>V23</th>\n",
              "      <th>V24</th>\n",
              "      <th>V25</th>\n",
              "      <th>V26</th>\n",
              "      <th>V27</th>\n",
              "      <th>V28</th>\n",
              "      <th>Amount</th>\n",
              "      <th>Class</th>\n",
              "    </tr>\n",
              "  </thead>\n",
              "  <tbody>\n",
              "    <tr>\n",
              "      <th>33</th>\n",
              "      <td>-0.529912</td>\n",
              "      <td>0.873892</td>\n",
              "      <td>1.347247</td>\n",
              "      <td>0.145457</td>\n",
              "      <td>0.414209</td>\n",
              "      <td>0.100223</td>\n",
              "      <td>0.711206</td>\n",
              "      <td>0.176066</td>\n",
              "      <td>-0.286717</td>\n",
              "      <td>-0.484688</td>\n",
              "      <td>0.872490</td>\n",
              "      <td>0.851636</td>\n",
              "      <td>-0.571745</td>\n",
              "      <td>0.100974</td>\n",
              "      <td>-1.519772</td>\n",
              "      <td>-0.284376</td>\n",
              "      <td>-0.310524</td>\n",
              "      <td>-0.404248</td>\n",
              "      <td>-0.823374</td>\n",
              "      <td>-0.290348</td>\n",
              "      <td>0.046949</td>\n",
              "      <td>0.208105</td>\n",
              "      <td>-0.185548</td>\n",
              "      <td>0.001031</td>\n",
              "      <td>0.098816</td>\n",
              "      <td>-0.552904</td>\n",
              "      <td>-0.073288</td>\n",
              "      <td>0.023307</td>\n",
              "      <td>6.14</td>\n",
              "      <td>0</td>\n",
              "    </tr>\n",
              "    <tr>\n",
              "      <th>35</th>\n",
              "      <td>-0.535388</td>\n",
              "      <td>0.865268</td>\n",
              "      <td>1.351076</td>\n",
              "      <td>0.147575</td>\n",
              "      <td>0.433680</td>\n",
              "      <td>0.086983</td>\n",
              "      <td>0.693039</td>\n",
              "      <td>0.179742</td>\n",
              "      <td>-0.285642</td>\n",
              "      <td>-0.482474</td>\n",
              "      <td>0.871800</td>\n",
              "      <td>0.853447</td>\n",
              "      <td>-0.571822</td>\n",
              "      <td>0.102252</td>\n",
              "      <td>-1.519991</td>\n",
              "      <td>-0.285912</td>\n",
              "      <td>-0.309633</td>\n",
              "      <td>-0.403902</td>\n",
              "      <td>-0.823743</td>\n",
              "      <td>-0.283264</td>\n",
              "      <td>0.049526</td>\n",
              "      <td>0.206537</td>\n",
              "      <td>-0.187108</td>\n",
              "      <td>0.000753</td>\n",
              "      <td>0.098117</td>\n",
              "      <td>-0.553471</td>\n",
              "      <td>-0.078306</td>\n",
              "      <td>0.025427</td>\n",
              "      <td>1.77</td>\n",
              "      <td>0</td>\n",
              "    </tr>\n",
              "    <tr>\n",
              "      <th>113</th>\n",
              "      <td>1.038370</td>\n",
              "      <td>0.127486</td>\n",
              "      <td>0.184456</td>\n",
              "      <td>1.109950</td>\n",
              "      <td>0.441699</td>\n",
              "      <td>0.945283</td>\n",
              "      <td>-0.036715</td>\n",
              "      <td>0.350995</td>\n",
              "      <td>0.118950</td>\n",
              "      <td>-0.243289</td>\n",
              "      <td>0.578063</td>\n",
              "      <td>0.674730</td>\n",
              "      <td>-0.534231</td>\n",
              "      <td>0.446601</td>\n",
              "      <td>1.122885</td>\n",
              "      <td>-1.768001</td>\n",
              "      <td>1.241157</td>\n",
              "      <td>-2.449500</td>\n",
              "      <td>-1.747255</td>\n",
              "      <td>-0.335520</td>\n",
              "      <td>0.102520</td>\n",
              "      <td>0.605089</td>\n",
              "      <td>0.023092</td>\n",
              "      <td>-0.626463</td>\n",
              "      <td>0.479120</td>\n",
              "      <td>-0.166937</td>\n",
              "      <td>0.081247</td>\n",
              "      <td>0.001192</td>\n",
              "      <td>1.18</td>\n",
              "      <td>0</td>\n",
              "    </tr>\n",
              "    <tr>\n",
              "      <th>114</th>\n",
              "      <td>1.038370</td>\n",
              "      <td>0.127486</td>\n",
              "      <td>0.184456</td>\n",
              "      <td>1.109950</td>\n",
              "      <td>0.441699</td>\n",
              "      <td>0.945283</td>\n",
              "      <td>-0.036715</td>\n",
              "      <td>0.350995</td>\n",
              "      <td>0.118950</td>\n",
              "      <td>-0.243289</td>\n",
              "      <td>0.578063</td>\n",
              "      <td>0.674730</td>\n",
              "      <td>-0.534231</td>\n",
              "      <td>0.446601</td>\n",
              "      <td>1.122885</td>\n",
              "      <td>-1.768001</td>\n",
              "      <td>1.241157</td>\n",
              "      <td>-2.449500</td>\n",
              "      <td>-1.747255</td>\n",
              "      <td>-0.335520</td>\n",
              "      <td>0.102520</td>\n",
              "      <td>0.605089</td>\n",
              "      <td>0.023092</td>\n",
              "      <td>-0.626463</td>\n",
              "      <td>0.479120</td>\n",
              "      <td>-0.166937</td>\n",
              "      <td>0.081247</td>\n",
              "      <td>0.001192</td>\n",
              "      <td>1.18</td>\n",
              "      <td>0</td>\n",
              "    </tr>\n",
              "    <tr>\n",
              "      <th>115</th>\n",
              "      <td>1.038370</td>\n",
              "      <td>0.127486</td>\n",
              "      <td>0.184456</td>\n",
              "      <td>1.109950</td>\n",
              "      <td>0.441699</td>\n",
              "      <td>0.945283</td>\n",
              "      <td>-0.036715</td>\n",
              "      <td>0.350995</td>\n",
              "      <td>0.118950</td>\n",
              "      <td>-0.243289</td>\n",
              "      <td>0.578063</td>\n",
              "      <td>0.674730</td>\n",
              "      <td>-0.534231</td>\n",
              "      <td>0.446601</td>\n",
              "      <td>1.122885</td>\n",
              "      <td>-1.768001</td>\n",
              "      <td>1.241157</td>\n",
              "      <td>-2.449500</td>\n",
              "      <td>-1.747255</td>\n",
              "      <td>-0.335520</td>\n",
              "      <td>0.102520</td>\n",
              "      <td>0.605089</td>\n",
              "      <td>0.023092</td>\n",
              "      <td>-0.626463</td>\n",
              "      <td>0.479120</td>\n",
              "      <td>-0.166937</td>\n",
              "      <td>0.081247</td>\n",
              "      <td>0.001192</td>\n",
              "      <td>1.18</td>\n",
              "      <td>0</td>\n",
              "    </tr>\n",
              "    <tr>\n",
              "      <th>...</th>\n",
              "      <td>...</td>\n",
              "      <td>...</td>\n",
              "      <td>...</td>\n",
              "      <td>...</td>\n",
              "      <td>...</td>\n",
              "      <td>...</td>\n",
              "      <td>...</td>\n",
              "      <td>...</td>\n",
              "      <td>...</td>\n",
              "      <td>...</td>\n",
              "      <td>...</td>\n",
              "      <td>...</td>\n",
              "      <td>...</td>\n",
              "      <td>...</td>\n",
              "      <td>...</td>\n",
              "      <td>...</td>\n",
              "      <td>...</td>\n",
              "      <td>...</td>\n",
              "      <td>...</td>\n",
              "      <td>...</td>\n",
              "      <td>...</td>\n",
              "      <td>...</td>\n",
              "      <td>...</td>\n",
              "      <td>...</td>\n",
              "      <td>...</td>\n",
              "      <td>...</td>\n",
              "      <td>...</td>\n",
              "      <td>...</td>\n",
              "      <td>...</td>\n",
              "      <td>...</td>\n",
              "    </tr>\n",
              "    <tr>\n",
              "      <th>284708</th>\n",
              "      <td>2.018105</td>\n",
              "      <td>0.073226</td>\n",
              "      <td>-1.615154</td>\n",
              "      <td>0.351058</td>\n",
              "      <td>0.333905</td>\n",
              "      <td>-0.676284</td>\n",
              "      <td>0.050474</td>\n",
              "      <td>-0.071028</td>\n",
              "      <td>0.302728</td>\n",
              "      <td>-0.193920</td>\n",
              "      <td>1.206863</td>\n",
              "      <td>0.611617</td>\n",
              "      <td>-0.589935</td>\n",
              "      <td>-0.529698</td>\n",
              "      <td>-0.450015</td>\n",
              "      <td>0.483411</td>\n",
              "      <td>0.321520</td>\n",
              "      <td>0.192470</td>\n",
              "      <td>0.275352</td>\n",
              "      <td>-0.184898</td>\n",
              "      <td>-0.306646</td>\n",
              "      <td>-0.841768</td>\n",
              "      <td>0.356773</td>\n",
              "      <td>0.655112</td>\n",
              "      <td>-0.331463</td>\n",
              "      <td>0.144352</td>\n",
              "      <td>-0.069820</td>\n",
              "      <td>-0.039845</td>\n",
              "      <td>1.98</td>\n",
              "      <td>0</td>\n",
              "    </tr>\n",
              "    <tr>\n",
              "      <th>284751</th>\n",
              "      <td>2.050734</td>\n",
              "      <td>-0.364010</td>\n",
              "      <td>-2.542843</td>\n",
              "      <td>-0.729357</td>\n",
              "      <td>2.388455</td>\n",
              "      <td>3.318015</td>\n",
              "      <td>-0.479138</td>\n",
              "      <td>0.791559</td>\n",
              "      <td>0.403374</td>\n",
              "      <td>0.093232</td>\n",
              "      <td>0.004391</td>\n",
              "      <td>0.390166</td>\n",
              "      <td>-0.212555</td>\n",
              "      <td>0.495544</td>\n",
              "      <td>0.472633</td>\n",
              "      <td>-0.171595</td>\n",
              "      <td>-0.368261</td>\n",
              "      <td>-0.976572</td>\n",
              "      <td>0.022869</td>\n",
              "      <td>-0.154978</td>\n",
              "      <td>-0.293363</td>\n",
              "      <td>-0.834802</td>\n",
              "      <td>0.381740</td>\n",
              "      <td>0.698179</td>\n",
              "      <td>-0.264798</td>\n",
              "      <td>0.219275</td>\n",
              "      <td>-0.052131</td>\n",
              "      <td>-0.066940</td>\n",
              "      <td>0.89</td>\n",
              "      <td>0</td>\n",
              "    </tr>\n",
              "    <tr>\n",
              "      <th>284775</th>\n",
              "      <td>1.955547</td>\n",
              "      <td>-0.724606</td>\n",
              "      <td>-1.706511</td>\n",
              "      <td>-0.611145</td>\n",
              "      <td>1.710907</td>\n",
              "      <td>3.914215</td>\n",
              "      <td>-1.248690</td>\n",
              "      <td>1.054133</td>\n",
              "      <td>1.314064</td>\n",
              "      <td>-0.150553</td>\n",
              "      <td>-0.222844</td>\n",
              "      <td>0.496839</td>\n",
              "      <td>-0.050358</td>\n",
              "      <td>0.001067</td>\n",
              "      <td>0.894690</td>\n",
              "      <td>0.001418</td>\n",
              "      <td>-0.583473</td>\n",
              "      <td>0.075802</td>\n",
              "      <td>-0.359344</td>\n",
              "      <td>-0.137290</td>\n",
              "      <td>0.193605</td>\n",
              "      <td>0.690196</td>\n",
              "      <td>0.155951</td>\n",
              "      <td>0.726775</td>\n",
              "      <td>-0.061219</td>\n",
              "      <td>-0.192666</td>\n",
              "      <td>0.060347</td>\n",
              "      <td>-0.042323</td>\n",
              "      <td>12.99</td>\n",
              "      <td>0</td>\n",
              "    </tr>\n",
              "    <tr>\n",
              "      <th>284785</th>\n",
              "      <td>0.032887</td>\n",
              "      <td>0.545338</td>\n",
              "      <td>-1.185844</td>\n",
              "      <td>-1.729828</td>\n",
              "      <td>2.932315</td>\n",
              "      <td>3.401529</td>\n",
              "      <td>0.337434</td>\n",
              "      <td>0.925377</td>\n",
              "      <td>-0.165663</td>\n",
              "      <td>-0.386953</td>\n",
              "      <td>-0.199626</td>\n",
              "      <td>0.032017</td>\n",
              "      <td>-0.374731</td>\n",
              "      <td>0.354051</td>\n",
              "      <td>0.041228</td>\n",
              "      <td>-0.154750</td>\n",
              "      <td>-0.482455</td>\n",
              "      <td>-0.842462</td>\n",
              "      <td>-0.206385</td>\n",
              "      <td>0.022677</td>\n",
              "      <td>-0.266113</td>\n",
              "      <td>-0.716336</td>\n",
              "      <td>0.108519</td>\n",
              "      <td>0.688519</td>\n",
              "      <td>-0.460220</td>\n",
              "      <td>0.161939</td>\n",
              "      <td>0.265368</td>\n",
              "      <td>0.090245</td>\n",
              "      <td>1.79</td>\n",
              "      <td>0</td>\n",
              "    </tr>\n",
              "    <tr>\n",
              "      <th>284793</th>\n",
              "      <td>1.971002</td>\n",
              "      <td>-0.699067</td>\n",
              "      <td>-1.697541</td>\n",
              "      <td>-0.617643</td>\n",
              "      <td>1.718797</td>\n",
              "      <td>3.911336</td>\n",
              "      <td>-1.259306</td>\n",
              "      <td>1.056209</td>\n",
              "      <td>1.315006</td>\n",
              "      <td>-0.146827</td>\n",
              "      <td>-0.222959</td>\n",
              "      <td>0.496509</td>\n",
              "      <td>-0.051785</td>\n",
              "      <td>-0.000744</td>\n",
              "      <td>0.893684</td>\n",
              "      <td>0.000363</td>\n",
              "      <td>-0.583710</td>\n",
              "      <td>0.074163</td>\n",
              "      <td>-0.356789</td>\n",
              "      <td>-0.153581</td>\n",
              "      <td>0.188758</td>\n",
              "      <td>0.694418</td>\n",
              "      <td>0.163002</td>\n",
              "      <td>0.726365</td>\n",
              "      <td>-0.058282</td>\n",
              "      <td>-0.191813</td>\n",
              "      <td>0.061858</td>\n",
              "      <td>-0.043716</td>\n",
              "      <td>4.99</td>\n",
              "      <td>0</td>\n",
              "    </tr>\n",
              "  </tbody>\n",
              "</table>\n",
              "<p>9144 rows × 30 columns</p>\n",
              "</div>"
            ],
            "text/plain": [
              "              V1        V2        V3  ...       V28  Amount  Class\n",
              "33     -0.529912  0.873892  1.347247  ...  0.023307    6.14      0\n",
              "35     -0.535388  0.865268  1.351076  ...  0.025427    1.77      0\n",
              "113     1.038370  0.127486  0.184456  ...  0.001192    1.18      0\n",
              "114     1.038370  0.127486  0.184456  ...  0.001192    1.18      0\n",
              "115     1.038370  0.127486  0.184456  ...  0.001192    1.18      0\n",
              "...          ...       ...       ...  ...       ...     ...    ...\n",
              "284708  2.018105  0.073226 -1.615154  ... -0.039845    1.98      0\n",
              "284751  2.050734 -0.364010 -2.542843  ... -0.066940    0.89      0\n",
              "284775  1.955547 -0.724606 -1.706511  ... -0.042323   12.99      0\n",
              "284785  0.032887  0.545338 -1.185844  ...  0.090245    1.79      0\n",
              "284793  1.971002 -0.699067 -1.697541  ... -0.043716    4.99      0\n",
              "\n",
              "[9144 rows x 30 columns]"
            ]
          },
          "metadata": {},
          "execution_count": 18
        }
      ]
    },
    {
      "cell_type": "code",
      "metadata": {
        "colab": {
          "base_uri": "https://localhost:8080/"
        },
        "id": "JfHAVKnt5myO",
        "outputId": "34eb2e95-3ba9-48c2-f142-f5b53d5b0561"
      },
      "source": [
        "df[df.duplicated()]['Class'].value_counts()"
      ],
      "execution_count": null,
      "outputs": [
        {
          "output_type": "execute_result",
          "data": {
            "text/plain": [
              "0    9125\n",
              "1      19\n",
              "Name: Class, dtype: int64"
            ]
          },
          "metadata": {},
          "execution_count": 19
        }
      ]
    },
    {
      "cell_type": "code",
      "metadata": {
        "id": "wD3aQ93H5sfu"
      },
      "source": [
        "df = df[~df.duplicated()]"
      ],
      "execution_count": null,
      "outputs": []
    },
    {
      "cell_type": "code",
      "metadata": {
        "colab": {
          "base_uri": "https://localhost:8080/"
        },
        "id": "hk2tvtj55uQ2",
        "outputId": "8fdd97cc-359a-47d1-e154-6f296fa68aaf"
      },
      "source": [
        "df.shape"
      ],
      "execution_count": null,
      "outputs": [
        {
          "output_type": "execute_result",
          "data": {
            "text/plain": [
              "(275663, 30)"
            ]
          },
          "metadata": {},
          "execution_count": 21
        }
      ]
    },
    {
      "cell_type": "markdown",
      "metadata": {
        "id": "V4cC3Saf53qP"
      },
      "source": [
        "Column Data Analysis"
      ]
    },
    {
      "cell_type": "code",
      "metadata": {
        "colab": {
          "base_uri": "https://localhost:8080/",
          "height": 297
        },
        "id": "zBwwNNsH6C21",
        "outputId": "36c91463-9bce-464b-fce8-c315b0cad17f"
      },
      "source": [
        "sns.kdeplot(x='Amount', data=df)\n",
        "plt.title('Amount distribution')\n",
        "plt.show()"
      ],
      "execution_count": null,
      "outputs": [
        {
          "output_type": "display_data",
          "data": {
            "image/png": "[encoded data removed]",
            "text/plain": [
              "<Figure size 432x288 with 1 Axes>"
            ]
          },
          "metadata": {}
        }
      ]
    },
    {
      "cell_type": "code",
      "metadata": {
        "colab": {
          "base_uri": "https://localhost:8080/"
        },
        "id": "aqlogKXX7YHk",
        "outputId": "71cb5e43-eaef-4782-8949-5cf69aae1b22"
      },
      "source": [
        "df['Amount'].skew()"
      ],
      "execution_count": null,
      "outputs": [
        {
          "output_type": "execute_result",
          "data": {
            "text/plain": [
              "16.841622118790013"
            ]
          },
          "metadata": {},
          "execution_count": 23
        }
      ]
    },
    {
      "cell_type": "markdown",
      "metadata": {
        "id": "2asQoda-8D3k"
      },
      "source": [
        "#Indeed the value of skewness is greater than 5.0,which can be consider as the threshold value of skewness"
      ]
    },
    {
      "cell_type": "code",
      "metadata": {
        "colab": {
          "base_uri": "https://localhost:8080/"
        },
        "id": "QY3tzQea8Of2",
        "outputId": "08829827-d506-438f-8ca2-482d98b86413"
      },
      "source": [
        "df['Amount_bc'] = boxcox1p(df['Amount'], boxcox_normmax(df['Amount'] + 1))"
      ],
      "execution_count": null,
      "outputs": [
        {
          "output_type": "stream",
          "name": "stderr",
          "text": [
            "/usr/local/lib/python3.7/dist-packages/ipykernel_launcher.py:1: SettingWithCopyWarning: \n",
            "A value is trying to be set on a copy of a slice from a DataFrame.\n",
            "Try using .loc[row_indexer,col_indexer] = value instead\n",
            "\n",
            "See the caveats in the documentation: https://pandas.pydata.org/pandas-docs/stable/user_guide/indexing.html#returning-a-view-versus-a-copy\n",
            "  \"\"\"Entry point for launching an IPython kernel.\n"
          ]
        }
      ]
    },
    {
      "cell_type": "code",
      "metadata": {
        "colab": {
          "base_uri": "https://localhost:8080/",
          "height": 369
        },
        "id": "GTE2d3gU7x6T",
        "outputId": "d39823a3-582e-4206-daf4-b98dff6320bd"
      },
      "source": [
        "num_plot(df,'Amount_bc', 'Box Cox transform on Amount','$')"
      ],
      "execution_count": null,
      "outputs": [
        {
          "output_type": "display_data",
          "data": {
            "image/png": "[encoded data removed]",
            "text/plain": [
              "<Figure size 576x360 with 2 Axes>"
            ]
          },
          "metadata": {}
        }
      ]
    },
    {
      "cell_type": "code",
      "metadata": {
        "colab": {
          "base_uri": "https://localhost:8080/"
        },
        "id": "vdCrQ0yAAWDZ",
        "outputId": "1c7b19c3-ae89-47b0-c909-3d7f44d1abd0"
      },
      "source": [
        "df['Amount_log'] = np.log(1 + df['Amount'])"
      ],
      "execution_count": null,
      "outputs": [
        {
          "output_type": "stream",
          "name": "stderr",
          "text": [
            "/usr/local/lib/python3.7/dist-packages/ipykernel_launcher.py:1: SettingWithCopyWarning: \n",
            "A value is trying to be set on a copy of a slice from a DataFrame.\n",
            "Try using .loc[row_indexer,col_indexer] = value instead\n",
            "\n",
            "See the caveats in the documentation: https://pandas.pydata.org/pandas-docs/stable/user_guide/indexing.html#returning-a-view-versus-a-copy\n",
            "  \"\"\"Entry point for launching an IPython kernel.\n"
          ]
        }
      ]
    },
    {
      "cell_type": "code",
      "metadata": {
        "colab": {
          "base_uri": "https://localhost:8080/",
          "height": 369
        },
        "id": "yfAeqa1SAaID",
        "outputId": "0b2efa17-dda3-4c33-9ec8-e80cb128e1eb"
      },
      "source": [
        "num_plot(df,'Amount_log', 'Log transform on Amount','$')"
      ],
      "execution_count": null,
      "outputs": [
        {
          "output_type": "display_data",
          "data": {
            "image/png": "[encoded data removed]",
            "text/plain": [
              "<Figure size 576x360 with 2 Axes>"
            ]
          },
          "metadata": {}
        }
      ]
    },
    {
      "cell_type": "markdown",
      "metadata": {
        "id": "AAIHFd2JAmKj"
      },
      "source": [
        "The distriibutions look indeed very similar. We can choose one over the other without important differences. For example, we will chose the box-cox transformation."
      ]
    },
    {
      "cell_type": "code",
      "metadata": {
        "colab": {
          "base_uri": "https://localhost:8080/"
        },
        "id": "oi4MR3bhAnYC",
        "outputId": "02b5c902-cf01-4da0-f2f7-cd09a28d7bf3"
      },
      "source": [
        "df.drop(['Amount','Amount_log'], axis=1, inplace=True)"
      ],
      "execution_count": null,
      "outputs": [
        {
          "output_type": "stream",
          "name": "stderr",
          "text": [
            "/usr/local/lib/python3.7/dist-packages/pandas/core/frame.py:4174: SettingWithCopyWarning: \n",
            "A value is trying to be set on a copy of a slice from a DataFrame\n",
            "\n",
            "See the caveats in the documentation: https://pandas.pydata.org/pandas-docs/stable/user_guide/indexing.html#returning-a-view-versus-a-copy\n",
            "  errors=errors,\n"
          ]
        }
      ]
    },
    {
      "cell_type": "markdown",
      "metadata": {
        "id": "gfv2NcudAuFw"
      },
      "source": [
        "##Fraud Column analysis"
      ]
    },
    {
      "cell_type": "markdown",
      "metadata": {
        "id": "uBOsM1TsBTOJ"
      },
      "source": [
        "The main problem with this type of datasets is target class balance, which will be covered in the following section"
      ]
    },
    {
      "cell_type": "code",
      "metadata": {
        "colab": {
          "base_uri": "https://localhost:8080/",
          "height": 514
        },
        "id": "xRxD1SSISHfr",
        "outputId": "166a43e8-f7f6-4914-9385-4b0a5fb65578"
      },
      "source": [
        "perc_1 = len(df[df['Class']==1])/len(df)\n",
        "perc_0 = len(df[df['Class']==0])/len(df)\n",
        "\n",
        "labels=['No','Yes']\n",
        "\n",
        "plt.figure(figsize=(4,4))\n",
        "ax = sns.countplot(x='Class', data=df, palette='mako_r')\n",
        "ax.bar_label(ax.containers[0])\n",
        "plt.title('Target variable count')\n",
        "plt.yticks([])\n",
        "plt.figtext(.7, .7, \"Fraud?\\nYes:{:.3f}%\\nNo:{:.3f}%\".format(perc_1,perc_0), bbox ={'facecolor':'white','alpha':0.3, 'pad':5}, fontsize=13)\n",
        "plt.xticks(df['Class'].value_counts().index, labels)\n",
        "plt.show()"
      ],
      "execution_count": null,
      "outputs": [
        {
          "output_type": "error",
          "ename": "AttributeError",
          "evalue": "ignored",
          "traceback": [
            "\u001b[0;31m---------------------------------------------------------------------------\u001b[0m",
            "\u001b[0;31mAttributeError\u001b[0m                            Traceback (most recent call last)",
            "\u001b[0;32m<ipython-input-33-611396cdbbc2>\u001b[0m in \u001b[0;36m<module>\u001b[0;34m()\u001b[0m\n\u001b[1;32m      6\u001b[0m \u001b[0mplt\u001b[0m\u001b[0;34m.\u001b[0m\u001b[0mfigure\u001b[0m\u001b[0;34m(\u001b[0m\u001b[0mfigsize\u001b[0m\u001b[0;34m=\u001b[0m\u001b[0;34m(\u001b[0m\u001b[0;36m4\u001b[0m\u001b[0;34m,\u001b[0m\u001b[0;36m4\u001b[0m\u001b[0;34m)\u001b[0m\u001b[0;34m)\u001b[0m\u001b[0;34m\u001b[0m\u001b[0;34m\u001b[0m\u001b[0m\n\u001b[1;32m      7\u001b[0m \u001b[0max\u001b[0m \u001b[0;34m=\u001b[0m \u001b[0msns\u001b[0m\u001b[0;34m.\u001b[0m\u001b[0mcountplot\u001b[0m\u001b[0;34m(\u001b[0m\u001b[0mx\u001b[0m\u001b[0;34m=\u001b[0m\u001b[0;34m'Class'\u001b[0m\u001b[0;34m,\u001b[0m \u001b[0mdata\u001b[0m\u001b[0;34m=\u001b[0m\u001b[0mdf\u001b[0m\u001b[0;34m,\u001b[0m \u001b[0mpalette\u001b[0m\u001b[0;34m=\u001b[0m\u001b[0;34m'mako_r'\u001b[0m\u001b[0;34m)\u001b[0m\u001b[0;34m\u001b[0m\u001b[0;34m\u001b[0m\u001b[0m\n\u001b[0;32m----> 8\u001b[0;31m \u001b[0max\u001b[0m\u001b[0;34m.\u001b[0m\u001b[0mbar_label\u001b[0m\u001b[0;34m(\u001b[0m\u001b[0max\u001b[0m\u001b[0;34m.\u001b[0m\u001b[0mcontainers\u001b[0m\u001b[0;34m[\u001b[0m\u001b[0;36m0\u001b[0m\u001b[0;34m]\u001b[0m\u001b[0;34m)\u001b[0m\u001b[0;34m\u001b[0m\u001b[0;34m\u001b[0m\u001b[0m\n\u001b[0m\u001b[1;32m      9\u001b[0m \u001b[0mplt\u001b[0m\u001b[0;34m.\u001b[0m\u001b[0mtitle\u001b[0m\u001b[0;34m(\u001b[0m\u001b[0;34m'Target variable count'\u001b[0m\u001b[0;34m)\u001b[0m\u001b[0;34m\u001b[0m\u001b[0;34m\u001b[0m\u001b[0m\n\u001b[1;32m     10\u001b[0m \u001b[0mplt\u001b[0m\u001b[0;34m.\u001b[0m\u001b[0myticks\u001b[0m\u001b[0;34m(\u001b[0m\u001b[0;34m[\u001b[0m\u001b[0;34m]\u001b[0m\u001b[0;34m)\u001b[0m\u001b[0;34m\u001b[0m\u001b[0;34m\u001b[0m\u001b[0m\n",
            "\u001b[0;31mAttributeError\u001b[0m: 'AxesSubplot' object has no attribute 'bar_label'"
          ]
        },
        {
          "output_type": "display_data",
          "data": {
            "image/png": "[encoded data removed]",
            "text/plain": [
              "<Figure size 288x288 with 1 Axes>"
            ]
          },
          "metadata": {}
        }
      ]
    },
    {
      "cell_type": "code",
      "metadata": {
        "id": "dzBaF_rVFSv5"
      },
      "source": [
        "X = df.drop(\"Class\",axis=1)\n",
        "y = df.Class"
      ],
      "execution_count": null,
      "outputs": []
    },
    {
      "cell_type": "markdown",
      "metadata": {
        "id": "fze_Ve07Fkaw"
      },
      "source": [
        "##Dimension Reduction Proficiency"
      ]
    },
    {
      "cell_type": "code",
      "metadata": {
        "id": "_2_kKOEIFxYY"
      },
      "source": [
        "scaler = StandardScaler()\n",
        "X_scaled = scaler.fit_transform(X)"
      ],
      "execution_count": null,
      "outputs": []
    },
    {
      "cell_type": "code",
      "metadata": {
        "id": "wKPW-h9SFz5X"
      },
      "source": [
        "from sklearn.decomposition import PCA\n",
        "pca = PCA()\n",
        "pca.fit_transform(X_scaled);"
      ],
      "execution_count": null,
      "outputs": []
    },
    {
      "cell_type": "code",
      "metadata": {
        "id": "N0_ZmVvxF3tj"
      },
      "source": [
        "cum_sum = np.cumsum(pca.explained_variance_ratio_)*100\n",
        "comp= [n for n in range(len(cum_sum))]"
      ],
      "execution_count": null,
      "outputs": []
    },
    {
      "cell_type": "code",
      "metadata": {
        "id": "GinYVsLpF6QA",
        "colab": {
          "base_uri": "https://localhost:8080/",
          "height": 369
        },
        "outputId": "4ccb78a1-6ec0-49d0-e0b9-42e8bdf80daa"
      },
      "source": [
        "plt.figure(figsize=(7,5))\n",
        "plt.plot(comp, cum_sum, marker='.')\n",
        "plt.xlabel('PCA Components')\n",
        "plt.ylabel('Cumulative Explained Variance (%)')\n",
        "plt.title('PCA')\n",
        "plt.show()"
      ],
      "execution_count": null,
      "outputs": [
        {
          "output_type": "display_data",
          "data": {
            "image/png": "[encoded data removed]",
            "text/plain": [
              "<Figure size 504x360 with 1 Axes>"
            ]
          },
          "metadata": {}
        }
      ]
    },
    {
      "cell_type": "markdown",
      "metadata": {
        "id": "1yOvcTEa1Ft7"
      },
      "source": [
        "It looks like just one feature 'could' be removed and allow the model to still have 99% of the explainability. Usually we can keep most of the explainability removing more features, however in this dataset the features appears to be already transformed by PCA and so we could potentially just remove 1 feature.\n",
        "For this reason we won't drop any features and keep the original 28 columns in the X variable."
      ]
    },
    {
      "cell_type": "markdown",
      "metadata": {
        "id": "cUDIkn1Q1JWQ"
      },
      "source": [
        "###Unbalanced Case"
      ]
    },
    {
      "cell_type": "markdown",
      "metadata": {
        "id": "L_D0GTu81QMO"
      },
      "source": [
        "First, we will train a Neural Network with the unbalanced dataset and check the performance."
      ]
    },
    {
      "cell_type": "code",
      "metadata": {
        "id": "XEmfVDf11HOA"
      },
      "source": [
        "X_train, X_test, y_train, y_test = train_test_split(X, y, test_size=0.2, stratify = y, random_state=seed)"
      ],
      "execution_count": null,
      "outputs": []
    },
    {
      "cell_type": "code",
      "metadata": {
        "id": "z6eHfVjW-TSo"
      },
      "source": [
        "scaler = StandardScaler()\n",
        "\n",
        "X_train = scaler.fit_transform(X_train)\n",
        "X_test = scaler.transform(X_test)"
      ],
      "execution_count": null,
      "outputs": []
    },
    {
      "cell_type": "code",
      "metadata": {
        "id": "vWXwQnFe-sNN"
      },
      "source": [
        "X_train, X_val, y_train, y_val = train_test_split(X_train, y_train, test_size=0.2, stratify=y_train, random_state=seed)"
      ],
      "execution_count": null,
      "outputs": []
    },
    {
      "cell_type": "code",
      "metadata": {
        "id": "CsD9660t-nxe"
      },
      "source": [
        "model = keras.Sequential([\n",
        "    layers.Dense(80, activation='relu', input_shape=(X_train.shape[-1],)),\n",
        "    layers.Dropout(0.5),\n",
        "    layers.Dense(50, activation='relu'),\n",
        "    layers.Dropout(0.5),\n",
        "    layers.Dense(1, activation='sigmoid'),\n",
        "])\n",
        "\n",
        "model.compile(optimizer='adam',loss='binary_crossentropy',metrics=['Recall'])\n",
        "\n",
        "EPOCHS = 200\n",
        "BATCH_SIZE = 1000\n",
        "\n",
        "early_stopping = keras.callbacks.EarlyStopping(\n",
        "    patience=15,\n",
        "    min_delta=0.001,\n",
        "    restore_best_weights=True,\n",
        ")\n",
        "history = model.fit(\n",
        "    X_train, y_train,\n",
        "    validation_data=(X_val, y_val),\n",
        "    batch_size=BATCH_SIZE,\n",
        "    epochs=EPOCHS,\n",
        "    callbacks=[early_stopping],\n",
        "    verbose=0\n",
        ")"
      ],
      "execution_count": null,
      "outputs": []
    },
    {
      "cell_type": "code",
      "metadata": {
        "id": "1IUq3mEE-1Bu"
      },
      "source": [
        "y_pred_prob = model.predict(X_test)\n",
        "y_pred = y_pred_prob.round()"
      ],
      "execution_count": null,
      "outputs": []
    },
    {
      "cell_type": "code",
      "metadata": {
        "colab": {
          "base_uri": "https://localhost:8080/"
        },
        "id": "vyTfs_Md-7eP",
        "outputId": "ba690d60-6141-4094-a90d-ddc059a7d099"
      },
      "source": [
        "print(classification_report(y_test, y_pred.round(), target_names = ['No','Yes']))"
      ],
      "execution_count": null,
      "outputs": [
        {
          "output_type": "stream",
          "name": "stdout",
          "text": [
            "              precision    recall  f1-score   support\n",
            "\n",
            "          No       1.00      1.00      1.00     55038\n",
            "         Yes       0.85      0.66      0.75        95\n",
            "\n",
            "    accuracy                           1.00     55133\n",
            "   macro avg       0.93      0.83      0.87     55133\n",
            "weighted avg       1.00      1.00      1.00     55133\n",
            "\n"
          ]
        }
      ]
    },
    {
      "cell_type": "markdown",
      "metadata": {
        "id": "EYXnvjYc_Cj2"
      },
      "source": [
        "We can see a quite different situation in terms of scores between the 'Yes' and 'No' class: F1 score is 100% for class 'No', and 'just' 0.77 for class 'Yes.\n",
        "Overall, the Neural Network did not perform too badly even if the dataset is unbalanced.\n",
        "\n",
        "In the following, two different techniques will be used to deal with class unbalance: undersampling and oversampling.\n",
        "This is a very important step: we can only apply resampling techniques (undersampling, oversampling...) on the training set! I saw on several notebooks that some people apply resampling on the overall dataset and then train test split, but this is wrong. For example, in the case of Oversampling, if we oversample frst the dataset and then split into train and test sets, it is likely that same rows will be present both in train and test sets, compromising the generalization of the algorithm.\n",
        "In case of undersampling, if we undersample first and then train-test split, it means that the test set will be balanced, which would not be the case considering the problem at hand (unbalanced dataset), and would result in optimistic predictions. That is way it is importatnt to keep the test set unbalanced and apply resampling only on the training set.\n",
        "\n",
        "Class balance by Undersampling\n",
        "When undersampling, we aim to remove a number of the rows of the majority class (rows where class=0) in order to match the number of rows of the minority class (rows where class=1)."
      ]
    },
    {
      "cell_type": "code",
      "metadata": {
        "colab": {
          "base_uri": "https://localhost:8080/"
        },
        "id": "vEu-Cug5_D2t",
        "outputId": "c8f2af7a-05b9-4b7e-ed15-f75ca75394b2"
      },
      "source": [
        "y_train.value_counts()"
      ],
      "execution_count": null,
      "outputs": [
        {
          "output_type": "execute_result",
          "data": {
            "text/plain": [
              "0    176122\n",
              "1       302\n",
              "Name: Class, dtype: int64"
            ]
          },
          "metadata": {},
          "execution_count": 45
        }
      ]
    },
    {
      "cell_type": "markdown",
      "metadata": {
        "id": "eKusA29U_JZc"
      },
      "source": [
        "This means that we will remove 176122 - 302 = 175820 rows."
      ]
    },
    {
      "cell_type": "code",
      "metadata": {
        "id": "UfcxmVyP_Ktp"
      },
      "source": [
        "rus = RandomUnderSampler(random_state=seed)"
      ],
      "execution_count": null,
      "outputs": []
    },
    {
      "cell_type": "code",
      "metadata": {
        "id": "G4Bfsi0B_SR3"
      },
      "source": [
        "X_train_us, y_train_us = rus.fit_resample(X_train, y_train)"
      ],
      "execution_count": null,
      "outputs": []
    },
    {
      "cell_type": "code",
      "metadata": {
        "colab": {
          "base_uri": "https://localhost:8080/"
        },
        "id": "GXsvGqwT_YA2",
        "outputId": "c75d8056-d9b4-44ed-dee2-cf1b88074256"
      },
      "source": [
        "y_train_us.value_counts()"
      ],
      "execution_count": null,
      "outputs": [
        {
          "output_type": "execute_result",
          "data": {
            "text/plain": [
              "1    302\n",
              "0    302\n",
              "Name: Class, dtype: int64"
            ]
          },
          "metadata": {},
          "execution_count": 48
        }
      ]
    },
    {
      "cell_type": "markdown",
      "metadata": {
        "id": "SGXWfJv6_ck7"
      },
      "source": [
        "Moreover, we further split the training set into a new train and validation dataset. This is done to monitor a metric ( accuracy or recall for example) on the validation set and so prevent overfitting."
      ]
    },
    {
      "cell_type": "code",
      "metadata": {
        "id": "kPbdU55B_f69"
      },
      "source": [
        "X_train_us, X_val_us, y_train_us, y_val_us = train_test_split(X_train_us, y_train_us, test_size=0.2, random_state = seed)"
      ],
      "execution_count": null,
      "outputs": []
    },
    {
      "cell_type": "markdown",
      "metadata": {
        "id": "IntWq_Yw_oQ-"
      },
      "source": [
        "Neural net 1 (Undersampling)\n",
        "The most important metric for this credit card fraud application is recall, since we want few false negatives as possibile: false negatives translate to 'allowed fraudolent transaction', which represent the worst case. On the other hand, false positives are 'not fraudolent' transaction flagged as fraudolent: this is what happen often also in real life, and it does not represent the worst case."
      ]
    },
    {
      "cell_type": "code",
      "metadata": {
        "id": "3aye50NK_qCu"
      },
      "source": [
        "model = keras.Sequential([\n",
        "    layers.Dense(50, activation='relu', input_shape=(X_train.shape[-1],)),\n",
        "    layers.Dropout(0.5),\n",
        "    layers.Dense(1, activation='sigmoid'),\n",
        "])\n",
        "\n",
        "model.compile(optimizer='adam',loss='binary_crossentropy',metrics=['Recall']) #choose recall as the metric\n",
        "\n",
        "\n",
        "EPOCHS = 200\n",
        "\n",
        "#setup earlystopping to prevent overfitting\n",
        "early_stopping = keras.callbacks.EarlyStopping(\n",
        "    patience=15,\n",
        "    min_delta=0.001,\n",
        "    restore_best_weights=True,\n",
        ")\n",
        "\n",
        "history = model.fit(\n",
        "    X_train_us, y_train_us,\n",
        "    validation_data=(X_val_us, y_val_us),\n",
        "    epochs=EPOCHS,\n",
        "    callbacks=[early_stopping],\n",
        "    verbose=0\n",
        ")"
      ],
      "execution_count": null,
      "outputs": []
    },
    {
      "cell_type": "markdown",
      "metadata": {
        "id": "Bi-hoXXG_7GD"
      },
      "source": [
        "Neural net 1 prediction (Undersampling)\n",
        "In particular, the output of a ANN is a probability (a number between 0 and 1), so by applying the 'round' method we can obtain either 0 or 1 starting by the probability."
      ]
    },
    {
      "cell_type": "code",
      "metadata": {
        "id": "S7Hymone_21j"
      },
      "source": [
        "y_pred_prob_us = model.predict(X_test)\n",
        "y_pred_us = y_pred_prob_us.round()"
      ],
      "execution_count": null,
      "outputs": []
    },
    {
      "cell_type": "code",
      "metadata": {
        "colab": {
          "base_uri": "https://localhost:8080/"
        },
        "id": "LFcti9FpAAoB",
        "outputId": "e45883d0-79a7-4669-f3e8-769d016f94cf"
      },
      "source": [
        "print(classification_report(y_test, y_pred_us, target_names = ['No','Yes']))"
      ],
      "execution_count": null,
      "outputs": [
        {
          "output_type": "stream",
          "name": "stdout",
          "text": [
            "              precision    recall  f1-score   support\n",
            "\n",
            "          No       1.00      0.98      0.99     55038\n",
            "         Yes       0.06      0.89      0.11        95\n",
            "\n",
            "    accuracy                           0.98     55133\n",
            "   macro avg       0.53      0.94      0.55     55133\n",
            "weighted avg       1.00      0.98      0.99     55133\n",
            "\n"
          ]
        }
      ]
    },
    {
      "cell_type": "markdown",
      "metadata": {
        "id": "AW2oMO1UAFFP"
      },
      "source": [
        "We can see a very low value of precision (0.07) and quite high recall (0.88). This may be caused by the very few values of data used during the training: just 664 samples. This means that the model predicts lots of false positives fraducolent transactions, and few false negative fradudolent transactions (which is good). Overall, the F1 score is too low ( just 13% for class = 1 ).\n",
        "By using such an algorithm, lots the users would see their non fraudolent transactions labeled as fraudolent.\n",
        "\n",
        "Class balance by oversampling with SMOTE\n",
        "Now, oversampling will be performed on the dataset."
      ]
    },
    {
      "cell_type": "code",
      "metadata": {
        "colab": {
          "base_uri": "https://localhost:8080/"
        },
        "id": "Czw2eLW6AEiV",
        "outputId": "830c125d-7db3-4d7b-93b9-74487ef7ccae"
      },
      "source": [
        "y_train.value_counts()"
      ],
      "execution_count": null,
      "outputs": [
        {
          "output_type": "execute_result",
          "data": {
            "text/plain": [
              "0    176122\n",
              "1       302\n",
              "Name: Class, dtype: int64"
            ]
          },
          "metadata": {},
          "execution_count": 53
        }
      ]
    },
    {
      "cell_type": "markdown",
      "metadata": {
        "id": "kupX8SxEALJb"
      },
      "source": [
        "This means that we will add 176122 - 302 = 175820 rows with 'Class' = 1, which is indeed a large number of duplicates that will be added."
      ]
    },
    {
      "cell_type": "code",
      "metadata": {
        "colab": {
          "base_uri": "https://localhost:8080/"
        },
        "id": "XAOA7m76APQb",
        "outputId": "51cfd269-3be3-4068-83d5-794ff514a130"
      },
      "source": [
        "smote = SMOTE(random_state=seed)\n",
        "\n",
        "X_train_os, y_train_os = smote.fit_resample(X_train, y_train)\n",
        "\n",
        "y_train_os.value_counts()"
      ],
      "execution_count": null,
      "outputs": [
        {
          "output_type": "execute_result",
          "data": {
            "text/plain": [
              "1    176122\n",
              "0    176122\n",
              "Name: Class, dtype: int64"
            ]
          },
          "metadata": {},
          "execution_count": 54
        }
      ]
    },
    {
      "cell_type": "markdown",
      "metadata": {
        "id": "roTGs8EeASUh"
      },
      "source": [
        "The dataset now is balanced."
      ]
    },
    {
      "cell_type": "code",
      "metadata": {
        "id": "0kWZ0lTyAEe1"
      },
      "source": [
        "X_train_os, X_val_os, y_train_os, y_val_os = train_test_split(X_train_os, y_train_os, stratify=y_train_os, test_size=0.2, random_state = seed)"
      ],
      "execution_count": null,
      "outputs": []
    },
    {
      "cell_type": "markdown",
      "metadata": {
        "id": "Pwl2U7QUApsL"
      },
      "source": [
        "Neural net 2 (Oversampling)"
      ]
    },
    {
      "cell_type": "code",
      "metadata": {
        "id": "NYIgrtNQAxes"
      },
      "source": [
        "model = keras.Sequential([\n",
        "    layers.Dense(60, activation='relu', input_shape=(X_train.shape[-1],)),\n",
        "    layers.Dropout(0.5),\n",
        "    layers.Dense(30, activation='relu'),\n",
        "    layers.Dropout(0.5),\n",
        "    layers.Dense(1, activation='sigmoid'),\n",
        "])\n",
        "\n",
        "model.compile(optimizer='adam',loss='binary_crossentropy',metrics=['Recall'])\n",
        "\n",
        "EPOCHS = 200\n",
        "BATCH_SIZE = 1000 #We need to include a batch size now since there are lots of data in the training set\n",
        "\n",
        "early_stopping = keras.callbacks.EarlyStopping(\n",
        "    patience=15,\n",
        "    min_delta=0.001,\n",
        "    restore_best_weights=True,\n",
        ")\n",
        "history = model.fit(\n",
        "    X_train, y_train,\n",
        "    validation_data=(X_val_os, y_val_os),\n",
        "    batch_size=BATCH_SIZE,\n",
        "    epochs=EPOCHS,\n",
        "    callbacks=[early_stopping],\n",
        "    verbose=0\n",
        ")"
      ],
      "execution_count": null,
      "outputs": []
    },
    {
      "cell_type": "markdown",
      "metadata": {
        "id": "udB62Bj5JUmF"
      },
      "source": [
        "Neural net 2 prediction (Oversampling)"
      ]
    },
    {
      "cell_type": "code",
      "metadata": {
        "id": "SitvszW9Isls"
      },
      "source": [
        "y_pred_prob_os = model.predict(X_test)\n",
        "y_pred_os = y_pred_prob_os.round()"
      ],
      "execution_count": null,
      "outputs": []
    },
    {
      "cell_type": "code",
      "metadata": {
        "colab": {
          "base_uri": "https://localhost:8080/"
        },
        "id": "aO1m_soYJrUK",
        "outputId": "51b4f943-40f1-491a-8bfc-57e6008754e9"
      },
      "source": [
        "print(classification_report(y_test, y_pred_os.round(), target_names = ['No','Yes']))"
      ],
      "execution_count": null,
      "outputs": [
        {
          "output_type": "stream",
          "name": "stdout",
          "text": [
            "              precision    recall  f1-score   support\n",
            "\n",
            "          No       1.00      1.00      1.00     55038\n",
            "         Yes       0.86      0.78      0.82        95\n",
            "\n",
            "    accuracy                           1.00     55133\n",
            "   macro avg       0.93      0.89      0.91     55133\n",
            "weighted avg       1.00      1.00      1.00     55133\n",
            "\n"
          ]
        }
      ]
    },
    {
      "cell_type": "markdown",
      "metadata": {
        "id": "wygF7jo3Jz9j"
      },
      "source": [
        "We can see a higher F1 score (82%) in this case compared to the unbalanced (F1=77%) and undersampling case (F1=11%).\n",
        "This means that oversampling with SMOTE improved the neural network overall performance."
      ]
    },
    {
      "cell_type": "markdown",
      "metadata": {
        "id": "ZCGOiUewKisS"
      },
      "source": [
        "Class balance by SMOTE + ENN\n",
        "Finally, a mix between undersampling and oversampling called SMOTE + ENN will be implemented."
      ]
    },
    {
      "cell_type": "code",
      "metadata": {
        "colab": {
          "base_uri": "https://localhost:8080/"
        },
        "id": "ZWLTAZhhKe3z",
        "outputId": "103fe657-7823-46ae-946a-d5a4bb483392"
      },
      "source": [
        "rs = SMOTEENN(random_state=seed)\n",
        "\n",
        "X_train_rs, y_train_rs = smote.fit_resample(X_train, y_train)\n",
        "\n",
        "y_train_rs.value_counts()"
      ],
      "execution_count": null,
      "outputs": [
        {
          "output_type": "execute_result",
          "data": {
            "text/plain": [
              "1    176122\n",
              "0    176122\n",
              "Name: Class, dtype: int64"
            ]
          },
          "metadata": {},
          "execution_count": 59
        }
      ]
    },
    {
      "cell_type": "markdown",
      "metadata": {
        "id": "qdB0LjrIW5Q0"
      },
      "source": [
        "Now the number of samples per each class is 176122, compared to the original sizes of the majority class of 275190 and minority class of 473.\n",
        "This means that the majority class has been undersampled and the minority class has been oversampled."
      ]
    },
    {
      "cell_type": "code",
      "metadata": {
        "id": "wYoYefx9WwZc"
      },
      "source": [
        "X_train_rs, X_val_rs, y_train_rs, y_val_rs = train_test_split(X_train_rs, y_train_rs, stratify=y_train_rs, test_size=0.2, random_state = seed)"
      ],
      "execution_count": null,
      "outputs": []
    },
    {
      "cell_type": "markdown",
      "metadata": {
        "id": "9de39j8PW-wj"
      },
      "source": [
        "###Neural net(3) SMOKEENN"
      ]
    },
    {
      "cell_type": "markdown",
      "metadata": {
        "id": "zrSvvG9dXorB"
      },
      "source": [
        ""
      ]
    },
    {
      "cell_type": "code",
      "metadata": {
        "id": "DuQuYVT6XpZq"
      },
      "source": [
        "model = keras.Sequential([\n",
        "    layers.Dense(60, activation='relu', input_shape=(X_train.shape[-1],)),\n",
        "    layers.Dropout(0.5),\n",
        "    layers.Dense(30, activation='relu'),\n",
        "    layers.Dropout(0.5),\n",
        "    layers.Dense(1, activation='sigmoid'),\n",
        "])\n",
        "\n",
        "model.compile(optimizer='adam',loss='binary_crossentropy',metrics=['Recall'])\n",
        "\n",
        "EPOCHS = 200\n",
        "BATCH_SIZE = 800 #We need to include a batch size now since there are lots of data in the training set\n",
        "\n",
        "early_stopping = keras.callbacks.EarlyStopping(\n",
        "    patience=15,\n",
        "    min_delta=0.001,\n",
        "    restore_best_weights=True,\n",
        ")\n",
        "\n",
        "history = model.fit(\n",
        "    X_train_rs, y_train_rs,\n",
        "    validation_data=(X_val, y_val),\n",
        "    batch_size=BATCH_SIZE,\n",
        "    epochs=EPOCHS,\n",
        "    callbacks=[early_stopping],\n",
        "    verbose=0\n",
        ")"
      ],
      "execution_count": null,
      "outputs": []
    },
    {
      "cell_type": "markdown",
      "metadata": {
        "id": "uteG50caYPw3"
      },
      "source": [
        "###Neural net (3) Prediction "
      ]
    },
    {
      "cell_type": "code",
      "metadata": {
        "id": "ZH4UCaW2YPYC"
      },
      "source": [
        "y_pred_prob_rs = model.predict(X_test)\n",
        "y_pred_rs = y_pred_prob_rs.round()"
      ],
      "execution_count": null,
      "outputs": []
    },
    {
      "cell_type": "code",
      "metadata": {
        "colab": {
          "base_uri": "https://localhost:8080/"
        },
        "id": "RjJt8z4HYdB5",
        "outputId": "cad3d674-3d22-4614-f6dd-518e58b7691e"
      },
      "source": [
        "print(classification_report(y_test, y_pred_rs.round(), target_names = ['No','Yes']))"
      ],
      "execution_count": null,
      "outputs": [
        {
          "output_type": "stream",
          "name": "stdout",
          "text": [
            "              precision    recall  f1-score   support\n",
            "\n",
            "          No       1.00      1.00      1.00     55038\n",
            "         Yes       0.44      0.81      0.57        95\n",
            "\n",
            "    accuracy                           1.00     55133\n",
            "   macro avg       0.72      0.90      0.78     55133\n",
            "weighted avg       1.00      1.00      1.00     55133\n",
            "\n"
          ]
        }
      ]
    },
    {
      "cell_type": "markdown",
      "metadata": {
        "id": "mQl3JZk0Ywr4"
      },
      "source": [
        "In this the f1 score is 0.57 which is lower than unbalance and \n"
      ]
    },
    {
      "cell_type": "code",
      "metadata": {
        "colab": {
          "base_uri": "https://localhost:8080/",
          "height": 232
        },
        "id": "zkzNcs6PYtdZ",
        "outputId": "9b22cd2c-44a9-46ae-f658-bf4fdd9b892c"
      },
      "source": [
        "fig, ax = plt.subplots(1,4,figsize=(10,3))\n",
        "labels=['No','Yes']\n",
        "\n",
        "sns.heatmap(confusion_matrix(y_test, y_pred), annot=True, cmap=\"Blues\", fmt='g', cbar=False,ax=ax[0])\n",
        "plt.suptitle('Fraudolent Transaction?', fontsize=20)\n",
        "ax[0].set_title('Unbalanced case')\n",
        "ax[0].set_yticklabels(labels);\n",
        "ax[0].set_xticklabels(labels);\n",
        "ax[0].set_ylabel('Test')\n",
        "ax[0].set_xlabel('Predicted')\n",
        "\n",
        "sns.heatmap(confusion_matrix(y_test, y_pred_us), annot=True, cmap=\"Blues\", fmt='g', cbar=False,ax=ax[1])\n",
        "plt.suptitle('Fraudolent Transaction?', fontsize=20)\n",
        "ax[1].set_title('Undersampling case')\n",
        "ax[1].set_yticklabels(labels);\n",
        "ax[1].set_xticklabels(labels);\n",
        "ax[1].set_ylabel('Test')\n",
        "ax[1].set_xlabel('Predicted')\n",
        "\n",
        "\n",
        "sns.heatmap(confusion_matrix(y_test, y_pred_os), annot=True, cmap=\"Blues\", fmt='g', cbar=False, ax=ax[2])\n",
        "ax[2].set_title('Oversampling case')\n",
        "ax[2].set_xticklabels(labels);\n",
        "ax[2].set_yticklabels(labels);\n",
        "ax[2].set_ylabel('Test')\n",
        "ax[2].set_xlabel('Predicted')\n",
        "plt.tight_layout()\n",
        "\n",
        "sns.heatmap(confusion_matrix(y_test, y_pred_rs), annot=True, cmap=\"Blues\", fmt='g', cbar=False, ax=ax[3])\n",
        "ax[3].set_title('SMOTENN case')\n",
        "ax[3].set_xticklabels(labels);\n",
        "ax[3].set_yticklabels(labels);\n",
        "ax[3].set_ylabel('Test')\n",
        "ax[3].set_xlabel('Predicted')\n",
        "plt.tight_layout()\n",
        "\n",
        "\n",
        "plt.show()\n"
      ],
      "execution_count": null,
      "outputs": [
        {
          "output_type": "display_data",
          "data": {
            "image/png": "[encoded data removed]",
            "text/plain": [
              "<Figure size 720x216 with 4 Axes>"
            ]
          },
          "metadata": {}
        }
      ]
    },
    {
      "cell_type": "code",
      "metadata": {
        "colab": {
          "base_uri": "https://localhost:8080/",
          "height": 542
        },
        "id": "2Z28_a6Kg2Fd",
        "outputId": "183e751d-a783-45c8-c265-ea964fa36433"
      },
      "source": [
        "fig, ax = plt.subplots(2,4,figsize=(13,9))\n",
        "\n",
        "####PR CURVES####\n",
        "\n",
        "p,r,_ = precision_recall_curve(y_test,y_pred_prob)\n",
        "ax[0,0].plot(r,p, label = \"Precision:{:.2f}%\\nRecall:{:.2f}%\".format(precision_score(y_test, y_pred)*100,recall_score(y_test, y_pred)*100))\n",
        "ax[0,0].set_title('PR CURVE\\nUnbalanced',fontsize=20)\n",
        "ax[0,0].set_ylabel('Precision',fontsize=15)\n",
        "ax[0,0].set_xlabel('Recall',fontsize=15)\n",
        "ax[0,0].legend(loc = 'lower left', fontsize=13, fancybox=True, shadow=True, frameon=True,handlelength=0)\n",
        "\n",
        "p,r,_ = precision_recall_curve(y_test,y_pred_prob_us)\n",
        "ax[0,1].plot(r,p, label = \"Precision:{:.2f}%\\nRecall:{:.2f}%\".format(precision_score(y_test, y_pred_us)*100,recall_score(y_test, y_pred_us)*100))\n",
        "ax[0,1].set_title('PR CURVE\\nUndersampling',fontsize=20)\n",
        "ax[0,1].set_ylabel('Precision',fontsize=15)\n",
        "ax[0,1].set_xlabel('Recall',fontsize=15)\n",
        "ax[0,1].legend(loc = 'lower left', fontsize=13, fancybox=True, shadow=True, frameon=True,handlelength=0)\n",
        "\n",
        "p,r,_ = precision_recall_curve(y_test,y_pred_prob_os)\n",
        "ax[0,2].plot(r,p, label = \"Precision:{:.2f}%\\nRecall:{:.2f}%\".format(precision_score(y_test, y_pred_os)*100,recall_score(y_test, y_pred_os)*100))\n",
        "ax[0,2].set_title('PR CURVE\\nOversampling',fontsize=20)\n",
        "ax[0,2].set_ylabel('Precision',fontsize=15)\n",
        "ax[0,2].set_xlabel('Recall',fontsize=15)\n",
        "ax[0,2].legend(loc = 'lower left', fontsize=13, fancybox=True, shadow=True, frameon=True,handlelength=0)\n",
        "\n",
        "p,r,_ = precision_recall_curve(y_test,y_pred_prob_rs)\n",
        "ax[0,3].plot(r,p, label = \"Precision:{:.2f}%\\nRecall:{:.2f}%\".format(precision_score(y_test, y_pred_rs)*100,recall_score(y_test, y_pred_rs)*100))\n",
        "ax[0,3].set_title('PR CURVE\\n SMOTENN',fontsize=20)\n",
        "ax[0,3].set_ylabel('Precision',fontsize=15)\n",
        "ax[0,3].set_xlabel('Recall',fontsize=15)\n",
        "ax[0,3].legend(loc = 'lower left', fontsize=13, fancybox=True, shadow=True, frameon=True,handlelength=0)\n",
        "\n",
        "####ROC####\n",
        "\n",
        "\n",
        "fprcat, tprcat, _ = roc_curve(y_test, y_pred_prob)\n",
        "roc_auccat = auc(fprcat, tprcat)\n",
        "ax[1,0].plot(fprcat, tprcat, 'b', label = 'AUC = %0.2f' % roc_auccat)\n",
        "ax[1,0].plot([0, 1], [0, 1],'r--')\n",
        "ax[1,0].set_title('ROC\\nUnbalanced',fontsize=20)\n",
        "ax[1,0].set_ylabel('True Positive Rate',fontsize=15)\n",
        "ax[1,0].set_xlabel('False Positive Rate',fontsize=15)\n",
        "ax[1,0].legend(loc = 'lower right', fontsize=15, fancybox=True, shadow=True, frameon=True,handlelength=0)\n",
        "\n",
        "fprcat, tprcat, _ = roc_curve(y_test, y_pred_prob_us)\n",
        "roc_auccat = auc(fprcat, tprcat)\n",
        "ax[1,1].plot(fprcat, tprcat, 'b', label = 'AUC = %0.2f' % roc_auccat)\n",
        "ax[1,1].plot([0, 1], [0, 1],'r--')\n",
        "ax[1,1].set_title('ROC\\nUndersampling',fontsize=20)\n",
        "ax[1,1].set_ylabel('True Positive Rate',fontsize=15)\n",
        "ax[1,1].set_xlabel('False Positive Rate',fontsize=15)\n",
        "ax[1,1].legend(loc = 'lower right', fontsize=15, fancybox=True, shadow=True, frameon=True,handlelength=0)\n",
        "\n",
        "\n",
        "fprcat, tprcat, _ = roc_curve(y_test, y_pred_prob_os)\n",
        "roc_auccat = auc(fprcat, tprcat)\n",
        "ax[1,2].plot(fprcat, tprcat, 'b', label = 'AUC = %0.2f' % roc_auccat)\n",
        "ax[1,2].plot([0, 1], [0, 1],'r--')\n",
        "ax[1,2].set_title('ROC\\nOversampling',fontsize=20)\n",
        "ax[1,2].set_ylabel('True Positive Rate',fontsize=15)\n",
        "ax[1,2].set_xlabel('False Positive Rate',fontsize=15)\n",
        "ax[1,2].legend(loc = 'lower right', fontsize=15, fancybox=True, shadow=True, frameon=True,handlelength=0)\n",
        "\n",
        "fprcat, tprcat, _ = roc_curve(y_test, y_pred_prob_rs)\n",
        "roc_auccat = auc(fprcat, tprcat)\n",
        "ax[1,3].plot(fprcat, tprcat, 'b', label = 'AUC = %0.2f' % roc_auccat)\n",
        "ax[1,3].plot([0, 1], [0, 1],'r--')\n",
        "ax[1,3].set_title('ROC\\nSMOTEENN',fontsize=20)\n",
        "ax[1,3].set_ylabel('True Positive Rate',fontsize=15)\n",
        "ax[1,3].set_xlabel('False Positive Rate',fontsize=15)\n",
        "ax[1,3].legend(loc = 'lower right', fontsize=15, fancybox=True, shadow=True, frameon=True,handlelength=0)\n",
        "\n",
        "\n",
        "\n",
        "plt.tight_layout()\n",
        "plt.show()"
      ],
      "execution_count": null,
      "outputs": [
        {
          "output_type": "display_data",
          "data": {
            "image/png": "[encoded data removed]",
            "text/plain": [
              "<Figure size 936x648 with 8 Axes>"
            ]
          },
          "metadata": {}
        }
      ]
    },
    {
      "cell_type": "markdown",
      "metadata": {
        "id": "6mfuUhy2g7Kc"
      },
      "source": [
        "We can see that the oversampling SMOTE performed the best, with Precision=86%, Recall=78% and F1=82%."
      ]
    }
  ]
}